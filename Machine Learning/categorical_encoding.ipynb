{
 "cells": [
  {
   "cell_type": "markdown",
   "metadata": {},
   "source": [
    "## How to encode categorical features with many categories?"
   ]
  },
  {
   "cell_type": "code",
   "execution_count": 1,
   "metadata": {},
   "outputs": [
    {
     "name": "stdout",
     "output_type": "stream",
     "text": [
      "Requirement already satisfied: category_encoders in /home/fm-pc-lt-227/Documents/personal/Uncovering-Insights-A-Daily-Journey-Through-the-World-of-Data-Science/venv/lib/python3.10/site-packages (2.6.1)\n",
      "Requirement already satisfied: numpy>=1.14.0 in /home/fm-pc-lt-227/Documents/personal/Uncovering-Insights-A-Daily-Journey-Through-the-World-of-Data-Science/venv/lib/python3.10/site-packages (from category_encoders) (1.25.0)\n",
      "Requirement already satisfied: scikit-learn>=0.20.0 in /home/fm-pc-lt-227/Documents/personal/Uncovering-Insights-A-Daily-Journey-Through-the-World-of-Data-Science/venv/lib/python3.10/site-packages (from category_encoders) (1.2.2)\n",
      "Requirement already satisfied: pandas>=1.0.5 in /home/fm-pc-lt-227/Documents/personal/Uncovering-Insights-A-Daily-Journey-Through-the-World-of-Data-Science/venv/lib/python3.10/site-packages (from category_encoders) (2.0.2)\n",
      "Requirement already satisfied: statsmodels>=0.9.0 in /home/fm-pc-lt-227/Documents/personal/Uncovering-Insights-A-Daily-Journey-Through-the-World-of-Data-Science/venv/lib/python3.10/site-packages (from category_encoders) (0.14.0)\n",
      "Requirement already satisfied: patsy>=0.5.1 in /home/fm-pc-lt-227/Documents/personal/Uncovering-Insights-A-Daily-Journey-Through-the-World-of-Data-Science/venv/lib/python3.10/site-packages (from category_encoders) (0.5.3)\n",
      "Requirement already satisfied: scipy>=1.0.0 in /home/fm-pc-lt-227/Documents/personal/Uncovering-Insights-A-Daily-Journey-Through-the-World-of-Data-Science/venv/lib/python3.10/site-packages (from category_encoders) (1.10.1)\n",
      "Requirement already satisfied: tzdata>=2022.1 in /home/fm-pc-lt-227/Documents/personal/Uncovering-Insights-A-Daily-Journey-Through-the-World-of-Data-Science/venv/lib/python3.10/site-packages (from pandas>=1.0.5->category_encoders) (2023.3)\n",
      "Requirement already satisfied: pytz>=2020.1 in /home/fm-pc-lt-227/Documents/personal/Uncovering-Insights-A-Daily-Journey-Through-the-World-of-Data-Science/venv/lib/python3.10/site-packages (from pandas>=1.0.5->category_encoders) (2023.3)\n",
      "Requirement already satisfied: python-dateutil>=2.8.2 in /home/fm-pc-lt-227/Documents/personal/Uncovering-Insights-A-Daily-Journey-Through-the-World-of-Data-Science/venv/lib/python3.10/site-packages (from pandas>=1.0.5->category_encoders) (2.8.2)\n",
      "Requirement already satisfied: six in /home/fm-pc-lt-227/Documents/personal/Uncovering-Insights-A-Daily-Journey-Through-the-World-of-Data-Science/venv/lib/python3.10/site-packages (from patsy>=0.5.1->category_encoders) (1.16.0)\n",
      "Requirement already satisfied: threadpoolctl>=2.0.0 in /home/fm-pc-lt-227/Documents/personal/Uncovering-Insights-A-Daily-Journey-Through-the-World-of-Data-Science/venv/lib/python3.10/site-packages (from scikit-learn>=0.20.0->category_encoders) (3.1.0)\n",
      "Requirement already satisfied: joblib>=1.1.1 in /home/fm-pc-lt-227/Documents/personal/Uncovering-Insights-A-Daily-Journey-Through-the-World-of-Data-Science/venv/lib/python3.10/site-packages (from scikit-learn>=0.20.0->category_encoders) (1.2.0)\n",
      "Requirement already satisfied: packaging>=21.3 in /home/fm-pc-lt-227/Documents/personal/Uncovering-Insights-A-Daily-Journey-Through-the-World-of-Data-Science/venv/lib/python3.10/site-packages (from statsmodels>=0.9.0->category_encoders) (23.1)\n"
     ]
    }
   ],
   "source": [
    "! pip3 install category_encoders"
   ]
  },
  {
   "cell_type": "code",
   "execution_count": 2,
   "metadata": {},
   "outputs": [],
   "source": [
    "import pandas as pd\n",
    "import category_encoders as ce"
   ]
  },
  {
   "cell_type": "code",
   "execution_count": 3,
   "metadata": {},
   "outputs": [
    {
     "data": {
      "text/html": [
       "<div>\n",
       "<style scoped>\n",
       "    .dataframe tbody tr th:only-of-type {\n",
       "        vertical-align: middle;\n",
       "    }\n",
       "\n",
       "    .dataframe tbody tr th {\n",
       "        vertical-align: top;\n",
       "    }\n",
       "\n",
       "    .dataframe thead th {\n",
       "        text-align: right;\n",
       "    }\n",
       "</style>\n",
       "<table border=\"1\" class=\"dataframe\">\n",
       "  <thead>\n",
       "    <tr style=\"text-align: right;\">\n",
       "      <th></th>\n",
       "      <th>gender</th>\n",
       "      <th>class</th>\n",
       "    </tr>\n",
       "  </thead>\n",
       "  <tbody>\n",
       "    <tr>\n",
       "      <th>0</th>\n",
       "      <td>Male</td>\n",
       "      <td>A</td>\n",
       "    </tr>\n",
       "    <tr>\n",
       "      <th>1</th>\n",
       "      <td>Female</td>\n",
       "      <td>B</td>\n",
       "    </tr>\n",
       "    <tr>\n",
       "      <th>2</th>\n",
       "      <td>Male</td>\n",
       "      <td>C</td>\n",
       "    </tr>\n",
       "    <tr>\n",
       "      <th>3</th>\n",
       "      <td>Female</td>\n",
       "      <td>D</td>\n",
       "    </tr>\n",
       "    <tr>\n",
       "      <th>4</th>\n",
       "      <td>Female</td>\n",
       "      <td>A</td>\n",
       "    </tr>\n",
       "  </tbody>\n",
       "</table>\n",
       "</div>"
      ],
      "text/plain": [
       "   gender class\n",
       "0    Male     A\n",
       "1  Female     B\n",
       "2    Male     C\n",
       "3  Female     D\n",
       "4  Female     A"
      ]
     },
     "execution_count": 3,
     "metadata": {},
     "output_type": "execute_result"
    }
   ],
   "source": [
    "data = pd.DataFrame({ 'gender' : ['Male', 'Female', 'Male', 'Female', 'Female'],\n",
    "                      'class' : ['A','B','C','D','A']})\n",
    "data.head()"
   ]
  },
  {
   "cell_type": "code",
   "execution_count": 4,
   "metadata": {},
   "outputs": [],
   "source": [
    "ce_be = ce.BinaryEncoder(cols=['class'])"
   ]
  },
  {
   "cell_type": "code",
   "execution_count": 5,
   "metadata": {},
   "outputs": [
    {
     "data": {
      "text/html": [
       "<div>\n",
       "<style scoped>\n",
       "    .dataframe tbody tr th:only-of-type {\n",
       "        vertical-align: middle;\n",
       "    }\n",
       "\n",
       "    .dataframe tbody tr th {\n",
       "        vertical-align: top;\n",
       "    }\n",
       "\n",
       "    .dataframe thead th {\n",
       "        text-align: right;\n",
       "    }\n",
       "</style>\n",
       "<table border=\"1\" class=\"dataframe\">\n",
       "  <thead>\n",
       "    <tr style=\"text-align: right;\">\n",
       "      <th></th>\n",
       "      <th>class_0</th>\n",
       "      <th>class_1</th>\n",
       "      <th>class_2</th>\n",
       "    </tr>\n",
       "  </thead>\n",
       "  <tbody>\n",
       "    <tr>\n",
       "      <th>0</th>\n",
       "      <td>0</td>\n",
       "      <td>0</td>\n",
       "      <td>1</td>\n",
       "    </tr>\n",
       "    <tr>\n",
       "      <th>1</th>\n",
       "      <td>0</td>\n",
       "      <td>1</td>\n",
       "      <td>0</td>\n",
       "    </tr>\n",
       "    <tr>\n",
       "      <th>2</th>\n",
       "      <td>0</td>\n",
       "      <td>1</td>\n",
       "      <td>1</td>\n",
       "    </tr>\n",
       "    <tr>\n",
       "      <th>3</th>\n",
       "      <td>1</td>\n",
       "      <td>0</td>\n",
       "      <td>0</td>\n",
       "    </tr>\n",
       "    <tr>\n",
       "      <th>4</th>\n",
       "      <td>0</td>\n",
       "      <td>0</td>\n",
       "      <td>1</td>\n",
       "    </tr>\n",
       "  </tbody>\n",
       "</table>\n",
       "</div>"
      ],
      "text/plain": [
       "   class_0  class_1  class_2\n",
       "0        0        0        1\n",
       "1        0        1        0\n",
       "2        0        1        1\n",
       "3        1        0        0\n",
       "4        0        0        1"
      ]
     },
     "execution_count": 5,
     "metadata": {},
     "output_type": "execute_result"
    }
   ],
   "source": [
    "ce_be.fit_transform(data[\"class\"])"
   ]
  }
 ],
 "metadata": {
  "kernelspec": {
   "display_name": "venv",
   "language": "python",
   "name": "python3"
  },
  "language_info": {
   "codemirror_mode": {
    "name": "ipython",
    "version": 3
   },
   "file_extension": ".py",
   "mimetype": "text/x-python",
   "name": "python",
   "nbconvert_exporter": "python",
   "pygments_lexer": "ipython3",
   "version": "3.10.6"
  },
  "orig_nbformat": 4
 },
 "nbformat": 4,
 "nbformat_minor": 2
}
