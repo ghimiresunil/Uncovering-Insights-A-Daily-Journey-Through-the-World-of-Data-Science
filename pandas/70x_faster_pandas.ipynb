{
 "cells": [
  {
   "cell_type": "markdown",
   "metadata": {
    "id": "w82tSCD3EMec"
   },
   "source": [
    "## Install Modin[Ray]"
   ]
  },
  {
   "cell_type": "code",
   "execution_count": 1,
   "metadata": {
    "colab": {
     "base_uri": "https://localhost:8080/"
    },
    "id": "0K1L6MhhDzFY",
    "outputId": "203d1af0-7f9b-40f8-f9d3-d01872413fb4"
   },
   "outputs": [
    {
     "name": "stdout",
     "output_type": "stream",
     "text": [
      "Looking in indexes: https://pypi.org/simple, https://us-python.pkg.dev/colab-wheels/public/simple/\n",
      "Requirement already satisfied: modin[ray] in /usr/local/lib/python3.8/dist-packages (0.18.0)\n",
      "Requirement already satisfied: psutil in /usr/local/lib/python3.8/dist-packages (from modin[ray]) (5.9.4)\n",
      "Requirement already satisfied: pandas==1.5.2 in /usr/local/lib/python3.8/dist-packages (from modin[ray]) (1.5.2)\n",
      "Requirement already satisfied: packaging in /usr/local/lib/python3.8/dist-packages (from modin[ray]) (21.3)\n",
      "Requirement already satisfied: numpy>=1.18.5 in /usr/local/lib/python3.8/dist-packages (from modin[ray]) (1.21.6)\n",
      "Requirement already satisfied: fsspec in /usr/local/lib/python3.8/dist-packages (from modin[ray]) (2022.11.0)\n",
      "Requirement already satisfied: pyarrow in /usr/local/lib/python3.8/dist-packages (from modin[ray]) (9.0.0)\n",
      "Requirement already satisfied: ray[default]>=1.13.0 in /usr/local/lib/python3.8/dist-packages (from modin[ray]) (2.2.0)\n",
      "Requirement already satisfied: pytz>=2020.1 in /usr/local/lib/python3.8/dist-packages (from pandas==1.5.2->modin[ray]) (2022.7)\n",
      "Requirement already satisfied: python-dateutil>=2.8.1 in /usr/local/lib/python3.8/dist-packages (from pandas==1.5.2->modin[ray]) (2.8.2)\n",
      "Requirement already satisfied: attrs in /usr/local/lib/python3.8/dist-packages (from ray[default]>=1.13.0->modin[ray]) (22.2.0)\n",
      "Requirement already satisfied: jsonschema in /usr/local/lib/python3.8/dist-packages (from ray[default]>=1.13.0->modin[ray]) (4.3.3)\n",
      "Requirement already satisfied: frozenlist in /usr/local/lib/python3.8/dist-packages (from ray[default]>=1.13.0->modin[ray]) (1.3.3)\n",
      "Requirement already satisfied: protobuf!=3.19.5,>=3.15.3 in /usr/local/lib/python3.8/dist-packages (from ray[default]>=1.13.0->modin[ray]) (3.19.6)\n",
      "Requirement already satisfied: virtualenv>=20.0.24 in /usr/local/lib/python3.8/dist-packages (from ray[default]>=1.13.0->modin[ray]) (20.17.1)\n",
      "Requirement already satisfied: requests in /usr/local/lib/python3.8/dist-packages (from ray[default]>=1.13.0->modin[ray]) (2.25.1)\n",
      "Requirement already satisfied: click>=7.0 in /usr/local/lib/python3.8/dist-packages (from ray[default]>=1.13.0->modin[ray]) (7.1.2)\n",
      "Requirement already satisfied: pyyaml in /usr/local/lib/python3.8/dist-packages (from ray[default]>=1.13.0->modin[ray]) (6.0)\n",
      "Requirement already satisfied: grpcio>=1.32.0 in /usr/local/lib/python3.8/dist-packages (from ray[default]>=1.13.0->modin[ray]) (1.51.1)\n",
      "Requirement already satisfied: msgpack<2.0.0,>=1.0.0 in /usr/local/lib/python3.8/dist-packages (from ray[default]>=1.13.0->modin[ray]) (1.0.4)\n",
      "Requirement already satisfied: filelock in /usr/local/lib/python3.8/dist-packages (from ray[default]>=1.13.0->modin[ray]) (3.9.0)\n",
      "Requirement already satisfied: aiosignal in /usr/local/lib/python3.8/dist-packages (from ray[default]>=1.13.0->modin[ray]) (1.3.1)\n",
      "Requirement already satisfied: aiohttp-cors in /usr/local/lib/python3.8/dist-packages (from ray[default]>=1.13.0->modin[ray]) (0.7.0)\n",
      "Requirement already satisfied: opencensus in /usr/local/lib/python3.8/dist-packages (from ray[default]>=1.13.0->modin[ray]) (0.11.0)\n",
      "Requirement already satisfied: smart-open in /usr/local/lib/python3.8/dist-packages (from ray[default]>=1.13.0->modin[ray]) (6.3.0)\n",
      "Requirement already satisfied: colorful in /usr/local/lib/python3.8/dist-packages (from ray[default]>=1.13.0->modin[ray]) (0.5.5)\n",
      "Requirement already satisfied: gpustat>=1.0.0 in /usr/local/lib/python3.8/dist-packages (from ray[default]>=1.13.0->modin[ray]) (1.0.0)\n",
      "Requirement already satisfied: pydantic in /usr/local/lib/python3.8/dist-packages (from ray[default]>=1.13.0->modin[ray]) (1.10.4)\n",
      "Requirement already satisfied: aiohttp>=3.7 in /usr/local/lib/python3.8/dist-packages (from ray[default]>=1.13.0->modin[ray]) (3.8.3)\n",
      "Requirement already satisfied: py-spy>=0.2.0 in /usr/local/lib/python3.8/dist-packages (from ray[default]>=1.13.0->modin[ray]) (0.3.14)\n",
      "Requirement already satisfied: prometheus-client<0.14.0,>=0.7.1 in /usr/local/lib/python3.8/dist-packages (from ray[default]>=1.13.0->modin[ray]) (0.13.1)\n",
      "Requirement already satisfied: pyparsing!=3.0.5,>=2.0.2 in /usr/local/lib/python3.8/dist-packages (from packaging->modin[ray]) (3.0.9)\n",
      "Requirement already satisfied: multidict<7.0,>=4.5 in /usr/local/lib/python3.8/dist-packages (from aiohttp>=3.7->ray[default]>=1.13.0->modin[ray]) (6.0.4)\n",
      "Requirement already satisfied: yarl<2.0,>=1.0 in /usr/local/lib/python3.8/dist-packages (from aiohttp>=3.7->ray[default]>=1.13.0->modin[ray]) (1.8.2)\n",
      "Requirement already satisfied: charset-normalizer<3.0,>=2.0 in /usr/local/lib/python3.8/dist-packages (from aiohttp>=3.7->ray[default]>=1.13.0->modin[ray]) (2.1.1)\n",
      "Requirement already satisfied: async-timeout<5.0,>=4.0.0a3 in /usr/local/lib/python3.8/dist-packages (from aiohttp>=3.7->ray[default]>=1.13.0->modin[ray]) (4.0.2)\n",
      "Requirement already satisfied: blessed>=1.17.1 in /usr/local/lib/python3.8/dist-packages (from gpustat>=1.0.0->ray[default]>=1.13.0->modin[ray]) (1.19.1)\n",
      "Requirement already satisfied: nvidia-ml-py<=11.495.46,>=11.450.129 in /usr/local/lib/python3.8/dist-packages (from gpustat>=1.0.0->ray[default]>=1.13.0->modin[ray]) (11.495.46)\n",
      "Requirement already satisfied: six>=1.7 in /usr/local/lib/python3.8/dist-packages (from gpustat>=1.0.0->ray[default]>=1.13.0->modin[ray]) (1.15.0)\n",
      "Requirement already satisfied: distlib<1,>=0.3.6 in /usr/local/lib/python3.8/dist-packages (from virtualenv>=20.0.24->ray[default]>=1.13.0->modin[ray]) (0.3.6)\n",
      "Requirement already satisfied: platformdirs<3,>=2.4 in /usr/local/lib/python3.8/dist-packages (from virtualenv>=20.0.24->ray[default]>=1.13.0->modin[ray]) (2.6.2)\n",
      "Requirement already satisfied: importlib-resources>=1.4.0 in /usr/local/lib/python3.8/dist-packages (from jsonschema->ray[default]>=1.13.0->modin[ray]) (5.10.2)\n",
      "Requirement already satisfied: pyrsistent!=0.17.0,!=0.17.1,!=0.17.2,>=0.14.0 in /usr/local/lib/python3.8/dist-packages (from jsonschema->ray[default]>=1.13.0->modin[ray]) (0.19.3)\n",
      "Requirement already satisfied: google-api-core<3.0.0,>=1.0.0 in /usr/local/lib/python3.8/dist-packages (from opencensus->ray[default]>=1.13.0->modin[ray]) (2.11.0)\n",
      "Requirement already satisfied: opencensus-context>=0.1.3 in /usr/local/lib/python3.8/dist-packages (from opencensus->ray[default]>=1.13.0->modin[ray]) (0.1.3)\n",
      "Requirement already satisfied: typing-extensions>=4.2.0 in /usr/local/lib/python3.8/dist-packages (from pydantic->ray[default]>=1.13.0->modin[ray]) (4.4.0)\n",
      "Requirement already satisfied: idna<3,>=2.5 in /usr/local/lib/python3.8/dist-packages (from requests->ray[default]>=1.13.0->modin[ray]) (2.10)\n",
      "Requirement already satisfied: certifi>=2017.4.17 in /usr/local/lib/python3.8/dist-packages (from requests->ray[default]>=1.13.0->modin[ray]) (2022.12.7)\n",
      "Requirement already satisfied: chardet<5,>=3.0.2 in /usr/local/lib/python3.8/dist-packages (from requests->ray[default]>=1.13.0->modin[ray]) (4.0.0)\n",
      "Requirement already satisfied: urllib3<1.27,>=1.21.1 in /usr/local/lib/python3.8/dist-packages (from requests->ray[default]>=1.13.0->modin[ray]) (1.24.3)\n",
      "Requirement already satisfied: wcwidth>=0.1.4 in /usr/local/lib/python3.8/dist-packages (from blessed>=1.17.1->gpustat>=1.0.0->ray[default]>=1.13.0->modin[ray]) (0.2.5)\n",
      "Requirement already satisfied: googleapis-common-protos<2.0dev,>=1.56.2 in /usr/local/lib/python3.8/dist-packages (from google-api-core<3.0.0,>=1.0.0->opencensus->ray[default]>=1.13.0->modin[ray]) (1.57.1)\n",
      "Requirement already satisfied: google-auth<3.0dev,>=2.14.1 in /usr/local/lib/python3.8/dist-packages (from google-api-core<3.0.0,>=1.0.0->opencensus->ray[default]>=1.13.0->modin[ray]) (2.15.0)\n",
      "Requirement already satisfied: zipp>=3.1.0 in /usr/local/lib/python3.8/dist-packages (from importlib-resources>=1.4.0->jsonschema->ray[default]>=1.13.0->modin[ray]) (3.11.0)\n",
      "Requirement already satisfied: cachetools<6.0,>=2.0.0 in /usr/local/lib/python3.8/dist-packages (from google-auth<3.0dev,>=2.14.1->google-api-core<3.0.0,>=1.0.0->opencensus->ray[default]>=1.13.0->modin[ray]) (5.2.0)\n",
      "Requirement already satisfied: rsa<5,>=3.1.4 in /usr/local/lib/python3.8/dist-packages (from google-auth<3.0dev,>=2.14.1->google-api-core<3.0.0,>=1.0.0->opencensus->ray[default]>=1.13.0->modin[ray]) (4.9)\n",
      "Requirement already satisfied: pyasn1-modules>=0.2.1 in /usr/local/lib/python3.8/dist-packages (from google-auth<3.0dev,>=2.14.1->google-api-core<3.0.0,>=1.0.0->opencensus->ray[default]>=1.13.0->modin[ray]) (0.2.8)\n",
      "Requirement already satisfied: pyasn1<0.5.0,>=0.4.6 in /usr/local/lib/python3.8/dist-packages (from pyasn1-modules>=0.2.1->google-auth<3.0dev,>=2.14.1->google-api-core<3.0.0,>=1.0.0->opencensus->ray[default]>=1.13.0->modin[ray]) (0.4.8)\n"
     ]
    }
   ],
   "source": [
    "! pip install modin[ray]"
   ]
  },
  {
   "cell_type": "code",
   "execution_count": 2,
   "metadata": {
    "id": "RWaHQ3ZmDhdr"
   },
   "outputs": [],
   "source": [
    "import os\n",
    "import time\n",
    "import ray\n",
    "import pandas\n",
    "import warnings\n",
    "import urllib.request\n",
    "import modin.pandas as pd\n",
    "\n",
    "os.environ[\"MODIN_ENGINE\"] = \"ray\"\n",
    "warnings.filterwarnings('ignore')"
   ]
  },
  {
   "cell_type": "code",
   "execution_count": 3,
   "metadata": {
    "colab": {
     "base_uri": "https://localhost:8080/",
     "height": 121
    },
    "id": "nL4rvWb1Dv9Y",
    "outputId": "c3a9fcb6-a67a-42ae-977b-5883ee1fcfe0"
   },
   "outputs": [
    {
     "name": "stderr",
     "output_type": "stream",
     "text": [
      "2023-01-16 10:20:39,959\tINFO worker.py:1529 -- Started a local Ray instance. View the dashboard at \u001b[1m\u001b[32mhttp://127.0.0.1:8265 \u001b[39m\u001b[22m\n"
     ]
    },
    {
     "data": {
      "text/html": [
       "<div>\n",
       "    <div style=\"margin-left: 50px;display: flex;flex-direction: row;align-items: center\">\n",
       "        <h3 style=\"color: var(--jp-ui-font-color0)\">Ray</h3>\n",
       "        <svg version=\"1.1\" id=\"ray\" width=\"3em\" viewBox=\"0 0 144.5 144.6\" style=\"margin-left: 3em;margin-right: 3em\">\n",
       "            <g id=\"layer-1\">\n",
       "                <path fill=\"#00a2e9\" class=\"st0\" d=\"M97.3,77.2c-3.8-1.1-6.2,0.9-8.3,5.1c-3.5,6.8-9.9,9.9-17.4,9.6S58,88.1,54.8,81.2c-1.4-3-3-4-6.3-4.1\n",
       "                    c-5.6-0.1-9.9,0.1-13.1,6.4c-3.8,7.6-13.6,10.2-21.8,7.6C5.2,88.4-0.4,80.5,0,71.7c0.1-8.4,5.7-15.8,13.8-18.2\n",
       "                    c8.4-2.6,17.5,0.7,22.3,8c1.3,1.9,1.3,5.2,3.6,5.6c3.9,0.6,8,0.2,12,0.2c1.8,0,1.9-1.6,2.4-2.8c3.5-7.8,9.7-11.8,18-11.9\n",
       "                    c8.2-0.1,14.4,3.9,17.8,11.4c1.3,2.8,2.9,3.6,5.7,3.3c1-0.1,2,0.1,3,0c2.8-0.5,6.4,1.7,8.1-2.7s-2.3-5.5-4.1-7.5\n",
       "                    c-5.1-5.7-10.9-10.8-16.1-16.3C84,38,81.9,37.1,78,38.3C66.7,42,56.2,35.7,53,24.1C50.3,14,57.3,2.8,67.7,0.5\n",
       "                    C78.4-2,89,4.7,91.5,15.3c0.1,0.3,0.1,0.5,0.2,0.8c0.7,3.4,0.7,6.9-0.8,9.8c-1.7,3.2-0.8,5,1.5,7.2c6.7,6.5,13.3,13,19.8,19.7\n",
       "                    c1.8,1.8,3,2.1,5.5,1.2c9.1-3.4,17.9-0.6,23.4,7c4.8,6.9,4.6,16.1-0.4,22.9c-5.4,7.2-14.2,9.9-23.1,6.5c-2.3-0.9-3.5-0.6-5.1,1.1\n",
       "                    c-6.7,6.9-13.6,13.7-20.5,20.4c-1.8,1.8-2.5,3.2-1.4,5.9c3.5,8.7,0.3,18.6-7.7,23.6c-7.9,5-18.2,3.8-24.8-2.9\n",
       "                    c-6.4-6.4-7.4-16.2-2.5-24.3c4.9-7.8,14.5-11,23.1-7.8c3,1.1,4.7,0.5,6.9-1.7C91.7,98.4,98,92.3,104.2,86c1.6-1.6,4.1-2.7,2.6-6.2\n",
       "                    c-1.4-3.3-3.8-2.5-6.2-2.6C99.8,77.2,98.9,77.2,97.3,77.2z M72.1,29.7c5.5,0.1,9.9-4.3,10-9.8c0-0.1,0-0.2,0-0.3\n",
       "                    C81.8,14,77,9.8,71.5,10.2c-5,0.3-9,4.2-9.3,9.2c-0.2,5.5,4,10.1,9.5,10.3C71.8,29.7,72,29.7,72.1,29.7z M72.3,62.3\n",
       "                    c-5.4-0.1-9.9,4.2-10.1,9.7c0,0.2,0,0.3,0,0.5c0.2,5.4,4.5,9.7,9.9,10c5.1,0.1,9.9-4.7,10.1-9.8c0.2-5.5-4-10-9.5-10.3\n",
       "                    C72.6,62.3,72.4,62.3,72.3,62.3z M115,72.5c0.1,5.4,4.5,9.7,9.8,9.9c5.6-0.2,10-4.8,10-10.4c-0.2-5.4-4.6-9.7-10-9.7\n",
       "                    c-5.3-0.1-9.8,4.2-9.9,9.5C115,72.1,115,72.3,115,72.5z M19.5,62.3c-5.4,0.1-9.8,4.4-10,9.8c-0.1,5.1,5.2,10.4,10.2,10.3\n",
       "                    c5.6-0.2,10-4.9,9.8-10.5c-0.1-5.4-4.5-9.7-9.9-9.6C19.6,62.3,19.5,62.3,19.5,62.3z M71.8,134.6c5.9,0.2,10.3-3.9,10.4-9.6\n",
       "                    c0.5-5.5-3.6-10.4-9.1-10.8c-5.5-0.5-10.4,3.6-10.8,9.1c0,0.5,0,0.9,0,1.4c-0.2,5.3,4,9.8,9.3,10\n",
       "                    C71.6,134.6,71.7,134.6,71.8,134.6z\"/>\n",
       "            </g>\n",
       "        </svg>\n",
       "        <table>\n",
       "            <tr>\n",
       "                <td style=\"text-align: left\"><b>Python version:</b></td>\n",
       "                <td style=\"text-align: left\"><b>3.8.16</b></td>\n",
       "            </tr>\n",
       "            <tr>\n",
       "                <td style=\"text-align: left\"><b>Ray version:</b></td>\n",
       "                <td style=\"text-align: left\"><b> 2.2.0</b></td>\n",
       "            </tr>\n",
       "            <tr>\n",
       "    <td style=\"text-align: left\"><b>Dashboard:</b></td>\n",
       "    <td style=\"text-align: left\"><b><a href=\"http://127.0.0.1:8265\" target=\"_blank\">http://127.0.0.1:8265</a></b></td>\n",
       "</tr>\n",
       "\n",
       "        </table>\n",
       "    </div>\n",
       "</div>\n"
      ],
      "text/plain": [
       "RayContext(dashboard_url='127.0.0.1:8265', python_version='3.8.16', ray_version='2.2.0', ray_commit='b6af0887ee5f2e460202133791ad941a41f15beb', address_info={'node_ip_address': '172.28.0.2', 'raylet_ip_address': '172.28.0.2', 'redis_address': None, 'object_store_address': '/tmp/ray/session_2023-01-16_10-20-35_742932_3824/sockets/plasma_store', 'raylet_socket_name': '/tmp/ray/session_2023-01-16_10-20-35_742932_3824/sockets/raylet', 'webui_url': '127.0.0.1:8265', 'session_dir': '/tmp/ray/session_2023-01-16_10-20-35_742932_3824', 'metrics_export_port': 63009, 'gcs_address': '172.28.0.2:62408', 'address': '172.28.0.2:62408', 'dashboard_agent_listen_port': 52365, 'node_id': '84660d897bbbb8397b3db2922aed0f8b9c262af7557554d63ff57eee'})"
      ]
     },
     "execution_count": 3,
     "metadata": {},
     "output_type": "execute_result"
    }
   ],
   "source": [
    "ray.init()"
   ]
  },
  {
   "cell_type": "markdown",
   "metadata": {
    "id": "k-cW-H46EUAr"
   },
   "source": [
    "## Get Dataset"
   ]
  },
  {
   "cell_type": "code",
   "execution_count": 4,
   "metadata": {
    "id": "8k3Mva9LEFVn"
   },
   "outputs": [],
   "source": [
    "file = \"../dataset/taxi.csv\""
   ]
  },
  {
   "cell_type": "code",
   "execution_count": 5,
   "metadata": {
    "colab": {
     "base_uri": "https://localhost:8080/"
    },
    "id": "QtZtkGdDEhSe",
    "outputId": "dc5860d3-77dc-4a2a-b115-d0d9b0bfdc04"
   },
   "outputs": [
    {
     "data": {
      "text/plain": [
       "('/content/drive/MyDrive/data science cook book/_dataset/taxi.csv',\n",
       " <http.client.HTTPMessage at 0x7f0e5bd88df0>)"
      ]
     },
     "execution_count": 5,
     "metadata": {},
     "output_type": "execute_result"
    }
   ],
   "source": [
    "s3_path = \"https://modin-datasets.s3.amazonaws.com/testing/yellow_tripdata_2015-01.csv\"\n",
    "urllib.request.urlretrieve(s3_path, file)\n",
    "\n",
    "## 200 MB Dataset"
   ]
  },
  {
   "cell_type": "markdown",
   "metadata": {
    "id": "T-LyYJ9oEqh_"
   },
   "source": [
    "## Read CSV"
   ]
  },
  {
   "cell_type": "code",
   "execution_count": 6,
   "metadata": {
    "colab": {
     "base_uri": "https://localhost:8080/"
    },
    "id": "IBbVcI4YEje0",
    "outputId": "774d4ad3-a4f0-4a8b-dcce-3cb41fc3e81f"
   },
   "outputs": [
    {
     "name": "stdout",
     "output_type": "stream",
     "text": [
      "Time to read with pandas: 7.411 seconds\n"
     ]
    }
   ],
   "source": [
    "start = time.time()\n",
    "\n",
    "pandas_df = pandas.read_csv(file, parse_dates=[\"tpep_pickup_datetime\", \n",
    "                                               \"tpep_dropoff_datetime\"], \n",
    "                            quoting=3)\n",
    "\n",
    "end = time.time()\n",
    "pandas_duration = end - start\n",
    "print(\"Time to read with pandas: {} seconds\".format(round(pandas_duration, 3)))"
   ]
  },
  {
   "cell_type": "code",
   "execution_count": 7,
   "metadata": {
    "colab": {
     "base_uri": "https://localhost:8080/"
    },
    "id": "v3raxx2uExWH",
    "outputId": "1a5fe0e8-a19c-4aec-a480-8421252fc8b2"
   },
   "outputs": [
    {
     "name": "stdout",
     "output_type": "stream",
     "text": [
      "Time to read with Modin: 12.482 seconds\n",
      "Modin is 0.59x faster than pandas at `read_csv`!\n"
     ]
    }
   ],
   "source": [
    "start = time.time()\n",
    "\n",
    "modin_df = pd.read_csv(file, parse_dates=[\"tpep_pickup_datetime\", \n",
    "                                          \"tpep_dropoff_datetime\"], \n",
    "                       quoting=3)\n",
    "\n",
    "end = time.time()\n",
    "modin_duration = end - start\n",
    "print(\"Time to read with Modin: {} seconds\".format(round(modin_duration, 3)))\n",
    "\n",
    "print(\"Modin is {}x faster than pandas at `read_csv`!\".format(round(pandas_duration / modin_duration, 2)))"
   ]
  },
  {
   "cell_type": "markdown",
   "metadata": {
    "id": "85eE8iPTE5lu"
   },
   "source": [
    "## Concat"
   ]
  },
  {
   "cell_type": "code",
   "execution_count": 8,
   "metadata": {
    "colab": {
     "base_uri": "https://localhost:8080/"
    },
    "id": "cjIl3dyME3Yh",
    "outputId": "ec2edb4b-cd04-496c-edb2-21097c0f0c8a"
   },
   "outputs": [
    {
     "name": "stdout",
     "output_type": "stream",
     "text": [
      "(38670140, 21)\n",
      "Time to concat with pandas: 7.119 seconds\n"
     ]
    }
   ],
   "source": [
    "start = time.time()\n",
    "\n",
    "big_pandas_df = pandas.concat([pandas_df for _ in range(20)])\n",
    "print(big_pandas_df.shape)\n",
    "end = time.time()\n",
    "pandas_duration = end - start\n",
    "print(\"Time to concat with pandas: {} seconds\".format(round(pandas_duration, 3)))\n"
   ]
  },
  {
   "cell_type": "code",
   "execution_count": 9,
   "metadata": {
    "colab": {
     "base_uri": "https://localhost:8080/"
    },
    "id": "VjRpMTHXE8Uc",
    "outputId": "a4a18f1a-3857-49fc-ee6e-62ab832ace34"
   },
   "outputs": [
    {
     "name": "stdout",
     "output_type": "stream",
     "text": [
      "(38670140, 21)\n",
      "Time to concat with Modin: 0.089 seconds\n",
      "Modin is 79.93x faster than pandas at `concat`!\n"
     ]
    }
   ],
   "source": [
    "start = time.time()\n",
    "\n",
    "big_modin_df = pd.concat([modin_df for _ in range(20)])\n",
    "print(big_modin_df.shape)\n",
    "end = time.time()\n",
    "modin_duration = end - start\n",
    "print(\"Time to concat with Modin: {} seconds\".format(round(modin_duration, 3)))\n",
    "\n",
    "print(\"Modin is {}x faster than pandas at `concat`!\".format(round(pandas_duration / modin_duration, 2)))"
   ]
  }
 ],
 "metadata": {
  "colab": {
   "provenance": []
  },
  "kernelspec": {
   "display_name": "Python 3",
   "language": "python",
   "name": "python3"
  },
  "language_info": {
   "codemirror_mode": {
    "name": "ipython",
    "version": 3
   },
   "file_extension": ".py",
   "mimetype": "text/x-python",
   "name": "python",
   "nbconvert_exporter": "python",
   "pygments_lexer": "ipython3",
   "version": "3.8.10 (default, Nov 14 2022, 12:59:47) \n[GCC 9.4.0]"
  },
  "vscode": {
   "interpreter": {
    "hash": "31f2aee4e71d21fbe5cf8b01ff0e069b9275f58929596ceb00d14d90e3e16cd6"
   }
  }
 },
 "nbformat": 4,
 "nbformat_minor": 1
}
