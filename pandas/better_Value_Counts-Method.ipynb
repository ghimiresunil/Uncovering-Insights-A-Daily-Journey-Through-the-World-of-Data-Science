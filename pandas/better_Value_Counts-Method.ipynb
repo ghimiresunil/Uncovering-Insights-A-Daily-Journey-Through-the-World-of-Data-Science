{
 "cells": [
  {
   "attachments": {},
   "cell_type": "markdown",
   "metadata": {},
   "source": [
    "## Supercharge `value_counts()` Method in Pandas With Sidetable"
   ]
  },
  {
   "cell_type": "code",
   "execution_count": 2,
   "metadata": {},
   "outputs": [
    {
     "name": "stdout",
     "output_type": "stream",
     "text": [
      "Requirement already satisfied: sidetable in /home/fm-pc-lt-227/.local/lib/python3.8/site-packages (0.9.1)\n",
      "Requirement already satisfied: pandas>=1.0 in /home/fm-pc-lt-227/.local/lib/python3.8/site-packages (from sidetable) (1.5.2)\n",
      "Requirement already satisfied: python-dateutil>=2.8.1 in /home/fm-pc-lt-227/.local/lib/python3.8/site-packages (from pandas>=1.0->sidetable) (2.8.2)\n",
      "Requirement already satisfied: pytz>=2020.1 in /home/fm-pc-lt-227/.local/lib/python3.8/site-packages (from pandas>=1.0->sidetable) (2021.3)\n",
      "Requirement already satisfied: numpy>=1.20.3; python_version < \"3.10\" in /home/fm-pc-lt-227/.local/lib/python3.8/site-packages (from pandas>=1.0->sidetable) (1.22.1)\n",
      "Requirement already satisfied: six>=1.5 in /home/fm-pc-lt-227/.local/lib/python3.8/site-packages (from python-dateutil>=2.8.1->pandas>=1.0->sidetable) (1.16.0)\n"
     ]
    }
   ],
   "source": [
    "! pip install sidetable"
   ]
  },
  {
   "cell_type": "code",
   "execution_count": 3,
   "metadata": {},
   "outputs": [],
   "source": [
    "import pandas as pd\n",
    "import sidetable"
   ]
  },
  {
   "cell_type": "code",
   "execution_count": 6,
   "metadata": {},
   "outputs": [
    {
     "data": {
      "text/html": [
       "<div>\n",
       "<style scoped>\n",
       "    .dataframe tbody tr th:only-of-type {\n",
       "        vertical-align: middle;\n",
       "    }\n",
       "\n",
       "    .dataframe tbody tr th {\n",
       "        vertical-align: top;\n",
       "    }\n",
       "\n",
       "    .dataframe thead th {\n",
       "        text-align: right;\n",
       "    }\n",
       "</style>\n",
       "<table border=\"1\" class=\"dataframe\">\n",
       "  <thead>\n",
       "    <tr style=\"text-align: right;\">\n",
       "      <th></th>\n",
       "      <th>Name</th>\n",
       "      <th>Company_Name</th>\n",
       "      <th>Employee_Job_Title</th>\n",
       "      <th>Employee_City</th>\n",
       "      <th>Employee_Country</th>\n",
       "      <th>Employee_Salary</th>\n",
       "      <th>Employment_Status</th>\n",
       "      <th>Employee_Rating</th>\n",
       "      <th>Credits</th>\n",
       "    </tr>\n",
       "  </thead>\n",
       "  <tbody>\n",
       "    <tr>\n",
       "      <th>0</th>\n",
       "      <td>Johnny Maynard</td>\n",
       "      <td>White, Mcclain and Cobb</td>\n",
       "      <td>Equities trader</td>\n",
       "      <td>New Cindychester</td>\n",
       "      <td>Mongolia</td>\n",
       "      <td>764340</td>\n",
       "      <td>Full Time</td>\n",
       "      <td>3.3</td>\n",
       "      <td>1</td>\n",
       "    </tr>\n",
       "    <tr>\n",
       "      <th>1</th>\n",
       "      <td>Michael Williams</td>\n",
       "      <td>Scott Inc</td>\n",
       "      <td>Patent examiner</td>\n",
       "      <td>Ricardomouth</td>\n",
       "      <td>Guinea-Bissau</td>\n",
       "      <td>929230</td>\n",
       "      <td>Full Time</td>\n",
       "      <td>4.6</td>\n",
       "      <td>4</td>\n",
       "    </tr>\n",
       "    <tr>\n",
       "      <th>2</th>\n",
       "      <td>Laura Flynn</td>\n",
       "      <td>Andrade LLC</td>\n",
       "      <td>Equities trader</td>\n",
       "      <td>North Melissafurt</td>\n",
       "      <td>Tonga</td>\n",
       "      <td>606900</td>\n",
       "      <td>Intern</td>\n",
       "      <td>0.3</td>\n",
       "      <td>3</td>\n",
       "    </tr>\n",
       "    <tr>\n",
       "      <th>3</th>\n",
       "      <td>Stefanie Archer</td>\n",
       "      <td>James and Sons</td>\n",
       "      <td>Retail merchandiser</td>\n",
       "      <td>Ricardomouth</td>\n",
       "      <td>San Marino</td>\n",
       "      <td>775380</td>\n",
       "      <td>Full Time</td>\n",
       "      <td>2.8</td>\n",
       "      <td>5</td>\n",
       "    </tr>\n",
       "    <tr>\n",
       "      <th>4</th>\n",
       "      <td>Sierra Garcia</td>\n",
       "      <td>Matthews Inc</td>\n",
       "      <td>Armed forces logistics/support/administrative ...</td>\n",
       "      <td>Whitakerbury</td>\n",
       "      <td>Nepal</td>\n",
       "      <td>944480</td>\n",
       "      <td>Full Time</td>\n",
       "      <td>4.5</td>\n",
       "      <td>4</td>\n",
       "    </tr>\n",
       "  </tbody>\n",
       "</table>\n",
       "</div>"
      ],
      "text/plain": [
       "               Name             Company_Name  \\\n",
       "0    Johnny Maynard  White, Mcclain and Cobb   \n",
       "1  Michael Williams                Scott Inc   \n",
       "2       Laura Flynn              Andrade LLC   \n",
       "3   Stefanie Archer           James and Sons   \n",
       "4     Sierra Garcia             Matthews Inc   \n",
       "\n",
       "                                  Employee_Job_Title      Employee_City  \\\n",
       "0                                    Equities trader   New Cindychester   \n",
       "1                                    Patent examiner       Ricardomouth   \n",
       "2                                    Equities trader  North Melissafurt   \n",
       "3                                Retail merchandiser       Ricardomouth   \n",
       "4  Armed forces logistics/support/administrative ...       Whitakerbury   \n",
       "\n",
       "  Employee_Country  Employee_Salary Employment_Status  Employee_Rating  \\\n",
       "0         Mongolia           764340         Full Time              3.3   \n",
       "1    Guinea-Bissau           929230         Full Time              4.6   \n",
       "2            Tonga           606900            Intern              0.3   \n",
       "3       San Marino           775380         Full Time              2.8   \n",
       "4            Nepal           944480         Full Time              4.5   \n",
       "\n",
       "   Credits  \n",
       "0        1  \n",
       "1        4  \n",
       "2        3  \n",
       "3        5  \n",
       "4        4  "
      ]
     },
     "execution_count": 6,
     "metadata": {},
     "output_type": "execute_result"
    }
   ],
   "source": [
    "df = pd.read_csv(\"../dataset/employee_dataset.csv\")\n",
    "df.head()"
   ]
  },
  {
   "attachments": {},
   "cell_type": "markdown",
   "metadata": {},
   "source": [
    "## Value_counts"
   ]
  },
  {
   "cell_type": "code",
   "execution_count": 8,
   "metadata": {},
   "outputs": [
    {
     "data": {
      "text/plain": [
       "West Jamesview       120\n",
       "Aliciafort           113\n",
       "New Cindychester     106\n",
       "Ricardomouth         106\n",
       "Whiteside            104\n",
       "Kristaburgh           97\n",
       "Wardfort              96\n",
       "New Russellton        93\n",
       "Whitakerbury          87\n",
       "North Melissafurt     78\n",
       "Name: Employee_City, dtype: int64"
      ]
     },
     "execution_count": 8,
     "metadata": {},
     "output_type": "execute_result"
    }
   ],
   "source": [
    "df['Employee_City'].value_counts()"
   ]
  },
  {
   "attachments": {},
   "cell_type": "markdown",
   "metadata": {},
   "source": [
    "## Sidetable"
   ]
  },
  {
   "cell_type": "code",
   "execution_count": 9,
   "metadata": {},
   "outputs": [
    {
     "data": {
      "text/html": [
       "<style type=\"text/css\">\n",
       "</style>\n",
       "<table id=\"T_644ca\">\n",
       "  <thead>\n",
       "    <tr>\n",
       "      <th class=\"blank level0\" >&nbsp;</th>\n",
       "      <th id=\"T_644ca_level0_col0\" class=\"col_heading level0 col0\" >Employee_City</th>\n",
       "      <th id=\"T_644ca_level0_col1\" class=\"col_heading level0 col1\" >count</th>\n",
       "      <th id=\"T_644ca_level0_col2\" class=\"col_heading level0 col2\" >percent</th>\n",
       "      <th id=\"T_644ca_level0_col3\" class=\"col_heading level0 col3\" >cumulative_count</th>\n",
       "      <th id=\"T_644ca_level0_col4\" class=\"col_heading level0 col4\" >cumulative_percent</th>\n",
       "    </tr>\n",
       "  </thead>\n",
       "  <tbody>\n",
       "    <tr>\n",
       "      <th id=\"T_644ca_level0_row0\" class=\"row_heading level0 row0\" >0</th>\n",
       "      <td id=\"T_644ca_row0_col0\" class=\"data row0 col0\" >West Jamesview</td>\n",
       "      <td id=\"T_644ca_row0_col1\" class=\"data row0 col1\" >120</td>\n",
       "      <td id=\"T_644ca_row0_col2\" class=\"data row0 col2\" >12.00%</td>\n",
       "      <td id=\"T_644ca_row0_col3\" class=\"data row0 col3\" >120</td>\n",
       "      <td id=\"T_644ca_row0_col4\" class=\"data row0 col4\" >12.00%</td>\n",
       "    </tr>\n",
       "    <tr>\n",
       "      <th id=\"T_644ca_level0_row1\" class=\"row_heading level0 row1\" >1</th>\n",
       "      <td id=\"T_644ca_row1_col0\" class=\"data row1 col0\" >Aliciafort</td>\n",
       "      <td id=\"T_644ca_row1_col1\" class=\"data row1 col1\" >113</td>\n",
       "      <td id=\"T_644ca_row1_col2\" class=\"data row1 col2\" >11.30%</td>\n",
       "      <td id=\"T_644ca_row1_col3\" class=\"data row1 col3\" >233</td>\n",
       "      <td id=\"T_644ca_row1_col4\" class=\"data row1 col4\" >23.30%</td>\n",
       "    </tr>\n",
       "    <tr>\n",
       "      <th id=\"T_644ca_level0_row2\" class=\"row_heading level0 row2\" >2</th>\n",
       "      <td id=\"T_644ca_row2_col0\" class=\"data row2 col0\" >Ricardomouth</td>\n",
       "      <td id=\"T_644ca_row2_col1\" class=\"data row2 col1\" >106</td>\n",
       "      <td id=\"T_644ca_row2_col2\" class=\"data row2 col2\" >10.60%</td>\n",
       "      <td id=\"T_644ca_row2_col3\" class=\"data row2 col3\" >339</td>\n",
       "      <td id=\"T_644ca_row2_col4\" class=\"data row2 col4\" >33.90%</td>\n",
       "    </tr>\n",
       "    <tr>\n",
       "      <th id=\"T_644ca_level0_row3\" class=\"row_heading level0 row3\" >3</th>\n",
       "      <td id=\"T_644ca_row3_col0\" class=\"data row3 col0\" >New Cindychester</td>\n",
       "      <td id=\"T_644ca_row3_col1\" class=\"data row3 col1\" >106</td>\n",
       "      <td id=\"T_644ca_row3_col2\" class=\"data row3 col2\" >10.60%</td>\n",
       "      <td id=\"T_644ca_row3_col3\" class=\"data row3 col3\" >445</td>\n",
       "      <td id=\"T_644ca_row3_col4\" class=\"data row3 col4\" >44.50%</td>\n",
       "    </tr>\n",
       "    <tr>\n",
       "      <th id=\"T_644ca_level0_row4\" class=\"row_heading level0 row4\" >4</th>\n",
       "      <td id=\"T_644ca_row4_col0\" class=\"data row4 col0\" >Whiteside</td>\n",
       "      <td id=\"T_644ca_row4_col1\" class=\"data row4 col1\" >104</td>\n",
       "      <td id=\"T_644ca_row4_col2\" class=\"data row4 col2\" >10.40%</td>\n",
       "      <td id=\"T_644ca_row4_col3\" class=\"data row4 col3\" >549</td>\n",
       "      <td id=\"T_644ca_row4_col4\" class=\"data row4 col4\" >54.90%</td>\n",
       "    </tr>\n",
       "    <tr>\n",
       "      <th id=\"T_644ca_level0_row5\" class=\"row_heading level0 row5\" >5</th>\n",
       "      <td id=\"T_644ca_row5_col0\" class=\"data row5 col0\" >Kristaburgh</td>\n",
       "      <td id=\"T_644ca_row5_col1\" class=\"data row5 col1\" >97</td>\n",
       "      <td id=\"T_644ca_row5_col2\" class=\"data row5 col2\" >9.70%</td>\n",
       "      <td id=\"T_644ca_row5_col3\" class=\"data row5 col3\" >646</td>\n",
       "      <td id=\"T_644ca_row5_col4\" class=\"data row5 col4\" >64.60%</td>\n",
       "    </tr>\n",
       "    <tr>\n",
       "      <th id=\"T_644ca_level0_row6\" class=\"row_heading level0 row6\" >6</th>\n",
       "      <td id=\"T_644ca_row6_col0\" class=\"data row6 col0\" >Wardfort</td>\n",
       "      <td id=\"T_644ca_row6_col1\" class=\"data row6 col1\" >96</td>\n",
       "      <td id=\"T_644ca_row6_col2\" class=\"data row6 col2\" >9.60%</td>\n",
       "      <td id=\"T_644ca_row6_col3\" class=\"data row6 col3\" >742</td>\n",
       "      <td id=\"T_644ca_row6_col4\" class=\"data row6 col4\" >74.20%</td>\n",
       "    </tr>\n",
       "    <tr>\n",
       "      <th id=\"T_644ca_level0_row7\" class=\"row_heading level0 row7\" >7</th>\n",
       "      <td id=\"T_644ca_row7_col0\" class=\"data row7 col0\" >New Russellton</td>\n",
       "      <td id=\"T_644ca_row7_col1\" class=\"data row7 col1\" >93</td>\n",
       "      <td id=\"T_644ca_row7_col2\" class=\"data row7 col2\" >9.30%</td>\n",
       "      <td id=\"T_644ca_row7_col3\" class=\"data row7 col3\" >835</td>\n",
       "      <td id=\"T_644ca_row7_col4\" class=\"data row7 col4\" >83.50%</td>\n",
       "    </tr>\n",
       "    <tr>\n",
       "      <th id=\"T_644ca_level0_row8\" class=\"row_heading level0 row8\" >8</th>\n",
       "      <td id=\"T_644ca_row8_col0\" class=\"data row8 col0\" >Whitakerbury</td>\n",
       "      <td id=\"T_644ca_row8_col1\" class=\"data row8 col1\" >87</td>\n",
       "      <td id=\"T_644ca_row8_col2\" class=\"data row8 col2\" >8.70%</td>\n",
       "      <td id=\"T_644ca_row8_col3\" class=\"data row8 col3\" >922</td>\n",
       "      <td id=\"T_644ca_row8_col4\" class=\"data row8 col4\" >92.20%</td>\n",
       "    </tr>\n",
       "    <tr>\n",
       "      <th id=\"T_644ca_level0_row9\" class=\"row_heading level0 row9\" >9</th>\n",
       "      <td id=\"T_644ca_row9_col0\" class=\"data row9 col0\" >North Melissafurt</td>\n",
       "      <td id=\"T_644ca_row9_col1\" class=\"data row9 col1\" >78</td>\n",
       "      <td id=\"T_644ca_row9_col2\" class=\"data row9 col2\" >7.80%</td>\n",
       "      <td id=\"T_644ca_row9_col3\" class=\"data row9 col3\" >1,000</td>\n",
       "      <td id=\"T_644ca_row9_col4\" class=\"data row9 col4\" >100.00%</td>\n",
       "    </tr>\n",
       "  </tbody>\n",
       "</table>\n"
      ],
      "text/plain": [
       "<pandas.io.formats.style.Styler at 0x7faa47cdb5b0>"
      ]
     },
     "execution_count": 9,
     "metadata": {},
     "output_type": "execute_result"
    }
   ],
   "source": [
    "df.stb.freq([\"Employee_City\"], style = True)"
   ]
  },
  {
   "cell_type": "code",
   "execution_count": null,
   "metadata": {},
   "outputs": [],
   "source": []
  }
 ],
 "metadata": {
  "kernelspec": {
   "display_name": "Python 3",
   "language": "python",
   "name": "python3"
  },
  "language_info": {
   "codemirror_mode": {
    "name": "ipython",
    "version": 3
   },
   "file_extension": ".py",
   "mimetype": "text/x-python",
   "name": "python",
   "nbconvert_exporter": "python",
   "pygments_lexer": "ipython3",
   "version": "3.8.10 (default, Nov 14 2022, 12:59:47) \n[GCC 9.4.0]"
  },
  "orig_nbformat": 4,
  "vscode": {
   "interpreter": {
    "hash": "31f2aee4e71d21fbe5cf8b01ff0e069b9275f58929596ceb00d14d90e3e16cd6"
   }
  }
 },
 "nbformat": 4,
 "nbformat_minor": 2
}
