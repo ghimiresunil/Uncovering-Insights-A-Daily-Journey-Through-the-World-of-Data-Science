{
 "cells": [
  {
   "cell_type": "code",
   "execution_count": 1,
   "metadata": {},
   "outputs": [
    {
     "name": "stdout",
     "output_type": "stream",
     "text": [
      "Requirement already satisfied: nb_black in /home/fm-pc-lt-227/.local/lib/python3.8/site-packages (1.0.7)\n",
      "Requirement already satisfied: black>='19.3'; python_version >= \"3.6\" in /home/fm-pc-lt-227/.local/lib/python3.8/site-packages (from nb_black) (22.8.0)\n",
      "Requirement already satisfied: ipython in /home/fm-pc-lt-227/.local/lib/python3.8/site-packages (from nb_black) (7.30.1)\n",
      "Requirement already satisfied: typing-extensions>=3.10.0.0; python_version < \"3.10\" in /home/fm-pc-lt-227/.local/lib/python3.8/site-packages (from black>='19.3'; python_version >= \"3.6\"->nb_black) (4.3.0)\n",
      "Requirement already satisfied: mypy-extensions>=0.4.3 in /home/fm-pc-lt-227/.local/lib/python3.8/site-packages (from black>='19.3'; python_version >= \"3.6\"->nb_black) (0.4.3)\n",
      "Requirement already satisfied: pathspec>=0.9.0 in /home/fm-pc-lt-227/.local/lib/python3.8/site-packages (from black>='19.3'; python_version >= \"3.6\"->nb_black) (0.10.1)\n",
      "Requirement already satisfied: platformdirs>=2 in /home/fm-pc-lt-227/.local/lib/python3.8/site-packages (from black>='19.3'; python_version >= \"3.6\"->nb_black) (2.5.2)\n",
      "Requirement already satisfied: tomli>=1.1.0; python_full_version < \"3.11.0a7\" in /home/fm-pc-lt-227/.local/lib/python3.8/site-packages (from black>='19.3'; python_version >= \"3.6\"->nb_black) (2.0.1)\n",
      "Requirement already satisfied: click>=8.0.0 in /home/fm-pc-lt-227/.local/lib/python3.8/site-packages (from black>='19.3'; python_version >= \"3.6\"->nb_black) (8.1.3)\n",
      "Requirement already satisfied: pickleshare in /home/fm-pc-lt-227/.local/lib/python3.8/site-packages (from ipython->nb_black) (0.7.5)\n",
      "Requirement already satisfied: pexpect>4.3; sys_platform != \"win32\" in /home/fm-pc-lt-227/.local/lib/python3.8/site-packages (from ipython->nb_black) (4.8.0)\n",
      "Requirement already satisfied: traitlets>=4.2 in /home/fm-pc-lt-227/.local/lib/python3.8/site-packages (from ipython->nb_black) (5.1.1)\n",
      "Requirement already satisfied: backcall in /home/fm-pc-lt-227/.local/lib/python3.8/site-packages (from ipython->nb_black) (0.2.0)\n",
      "Requirement already satisfied: prompt-toolkit!=3.0.0,!=3.0.1,<3.1.0,>=2.0.0 in /home/fm-pc-lt-227/.local/lib/python3.8/site-packages (from ipython->nb_black) (3.0.23)\n",
      "Requirement already satisfied: matplotlib-inline in /home/fm-pc-lt-227/.local/lib/python3.8/site-packages (from ipython->nb_black) (0.1.3)\n",
      "Requirement already satisfied: setuptools>=18.5 in /usr/lib/python3/dist-packages (from ipython->nb_black) (45.2.0)\n",
      "Requirement already satisfied: decorator in /home/fm-pc-lt-227/.local/lib/python3.8/site-packages (from ipython->nb_black) (5.1.0)\n",
      "Requirement already satisfied: pygments in /home/fm-pc-lt-227/.local/lib/python3.8/site-packages (from ipython->nb_black) (2.10.0)\n",
      "Requirement already satisfied: jedi>=0.16 in /home/fm-pc-lt-227/.local/lib/python3.8/site-packages (from ipython->nb_black) (0.18.1)\n",
      "Requirement already satisfied: ptyprocess>=0.5 in /home/fm-pc-lt-227/.local/lib/python3.8/site-packages (from pexpect>4.3; sys_platform != \"win32\"->ipython->nb_black) (0.7.0)\n",
      "Requirement already satisfied: wcwidth in /home/fm-pc-lt-227/.local/lib/python3.8/site-packages (from prompt-toolkit!=3.0.0,!=3.0.1,<3.1.0,>=2.0.0->ipython->nb_black) (0.2.5)\n",
      "Requirement already satisfied: parso<0.9.0,>=0.8.0 in /home/fm-pc-lt-227/.local/lib/python3.8/site-packages (from jedi>=0.16->ipython->nb_black) (0.8.3)\n"
     ]
    }
   ],
   "source": [
    "! pip install nb_black"
   ]
  },
  {
   "cell_type": "code",
   "execution_count": 2,
   "metadata": {},
   "outputs": [
    {
     "data": {
      "application/javascript": "\n            setTimeout(function() {\n                var nbb_cell_id = 2;\n                var nbb_unformatted_code = \"%load_ext nb_black\";\n                var nbb_formatted_code = \"%load_ext nb_black\";\n                var nbb_cells = Jupyter.notebook.get_cells();\n                for (var i = 0; i < nbb_cells.length; ++i) {\n                    if (nbb_cells[i].input_prompt_number == nbb_cell_id) {\n                        if (nbb_cells[i].get_text() == nbb_unformatted_code) {\n                             nbb_cells[i].set_text(nbb_formatted_code);\n                        }\n                        break;\n                    }\n                }\n            }, 500);\n            ",
      "text/plain": [
       "<IPython.core.display.Javascript object>"
      ]
     },
     "metadata": {},
     "output_type": "display_data"
    }
   ],
   "source": [
    "%load_ext nb_black"
   ]
  },
  {
   "cell_type": "code",
   "execution_count": 3,
   "metadata": {},
   "outputs": [
    {
     "name": "stdout",
     "output_type": "stream",
     "text": [
      "Requirement already satisfied: fugue[all] in /home/fm-pc-lt-227/.local/lib/python3.8/site-packages (0.8.0)\n",
      "Requirement already satisfied: sqlglot in /home/fm-pc-lt-227/.local/lib/python3.8/site-packages (from fugue[all]) (10.5.6)\n",
      "Requirement already satisfied: pyarrow>=0.15.1 in /home/fm-pc-lt-227/.local/lib/python3.8/site-packages (from fugue[all]) (6.0.1)\n",
      "Requirement already satisfied: jinja2 in /home/fm-pc-lt-227/.local/lib/python3.8/site-packages (from fugue[all]) (3.0.3)\n",
      "Requirement already satisfied: triad>=0.8.0 in /home/fm-pc-lt-227/.local/lib/python3.8/site-packages (from fugue[all]) (0.8.1)\n",
      "Requirement already satisfied: adagio>=0.2.4 in /home/fm-pc-lt-227/.local/lib/python3.8/site-packages (from fugue[all]) (0.2.4)\n",
      "Requirement already satisfied: qpd>=0.4.0 in /home/fm-pc-lt-227/.local/lib/python3.8/site-packages (from fugue[all]) (0.4.0)\n",
      "Requirement already satisfied: sqlalchemy in /home/fm-pc-lt-227/.local/lib/python3.8/site-packages (from fugue[all]) (1.4.46)\n",
      "Requirement already satisfied: pandas>=1.0.2 in /home/fm-pc-lt-227/.local/lib/python3.8/site-packages (from fugue[all]) (1.5.2)\n",
      "Requirement already satisfied: fugue-sql-antlr>=0.1.1 in /home/fm-pc-lt-227/.local/lib/python3.8/site-packages (from fugue[all]) (0.1.2)\n",
      "Requirement already satisfied: dask[dataframe,distributed]>=2022.9.0; python_version >= \"3.8\" and extra == \"all\" in /home/fm-pc-lt-227/.local/lib/python3.8/site-packages (from fugue[all]) (2023.1.0)\n",
      "Requirement already satisfied: pyspark; extra == \"all\" in /home/fm-pc-lt-227/.local/lib/python3.8/site-packages (from fugue[all]) (3.3.1)\n",
      "Requirement already satisfied: ipython>=7.10.0; extra == \"all\" in /home/fm-pc-lt-227/.local/lib/python3.8/site-packages (from fugue[all]) (7.30.1)\n",
      "Requirement already satisfied: jupyterlab; extra == \"all\" in /home/fm-pc-lt-227/.local/lib/python3.8/site-packages (from fugue[all]) (3.5.2)\n",
      "Requirement already satisfied: duckdb>=0.5.0; extra == \"all\" in /home/fm-pc-lt-227/.local/lib/python3.8/site-packages (from fugue[all]) (0.6.1)\n",
      "Requirement already satisfied: ibis-framework>=3.2.0; python_version >= \"3.8\" and extra == \"all\" in /home/fm-pc-lt-227/.local/lib/python3.8/site-packages (from fugue[all]) (4.0.0)\n",
      "Requirement already satisfied: notebook; extra == \"all\" in /home/fm-pc-lt-227/.local/lib/python3.8/site-packages (from fugue[all]) (6.4.6)\n",
      "Requirement already satisfied: ray[data]>=2.0.0; extra == \"all\" in /home/fm-pc-lt-227/.local/lib/python3.8/site-packages (from fugue[all]) (2.2.0)\n",
      "Requirement already satisfied: numpy>=1.16.6 in /home/fm-pc-lt-227/.local/lib/python3.8/site-packages (from pyarrow>=0.15.1->fugue[all]) (1.22.1)\n",
      "Requirement already satisfied: MarkupSafe>=2.0 in /home/fm-pc-lt-227/.local/lib/python3.8/site-packages (from jinja2->fugue[all]) (2.0.1)\n",
      "Requirement already satisfied: six in /home/fm-pc-lt-227/.local/lib/python3.8/site-packages (from triad>=0.8.0->fugue[all]) (1.16.0)\n",
      "Requirement already satisfied: fs in /home/fm-pc-lt-227/.local/lib/python3.8/site-packages (from triad>=0.8.0->fugue[all]) (2.4.16)\n",
      "Requirement already satisfied: antlr4-python3-runtime<4.12,>=4.11.1 in /home/fm-pc-lt-227/.local/lib/python3.8/site-packages (from qpd>=0.4.0->fugue[all]) (4.11.1)\n",
      "Requirement already satisfied: greenlet!=0.4.17; python_version >= \"3\" and (platform_machine == \"aarch64\" or (platform_machine == \"ppc64le\" or (platform_machine == \"x86_64\" or (platform_machine == \"amd64\" or (platform_machine == \"AMD64\" or (platform_machine == \"win32\" or platform_machine == \"WIN32\")))))) in /home/fm-pc-lt-227/.local/lib/python3.8/site-packages (from sqlalchemy->fugue[all]) (2.0.1)\n",
      "Requirement already satisfied: pytz>=2020.1 in /home/fm-pc-lt-227/.local/lib/python3.8/site-packages (from pandas>=1.0.2->fugue[all]) (2021.3)\n",
      "Requirement already satisfied: python-dateutil>=2.8.1 in /home/fm-pc-lt-227/.local/lib/python3.8/site-packages (from pandas>=1.0.2->fugue[all]) (2.8.2)\n",
      "Requirement already satisfied: partd>=0.3.10 in /home/fm-pc-lt-227/.local/lib/python3.8/site-packages (from dask[dataframe,distributed]>=2022.9.0; python_version >= \"3.8\" and extra == \"all\"->fugue[all]) (1.3.0)\n",
      "Requirement already satisfied: fsspec>=0.6.0 in /home/fm-pc-lt-227/.local/lib/python3.8/site-packages (from dask[dataframe,distributed]>=2022.9.0; python_version >= \"3.8\" and extra == \"all\"->fugue[all]) (2022.11.0)\n",
      "Requirement already satisfied: click>=7.0 in /home/fm-pc-lt-227/.local/lib/python3.8/site-packages (from dask[dataframe,distributed]>=2022.9.0; python_version >= \"3.8\" and extra == \"all\"->fugue[all]) (8.1.3)\n",
      "Requirement already satisfied: cloudpickle>=1.1.1 in /home/fm-pc-lt-227/.local/lib/python3.8/site-packages (from dask[dataframe,distributed]>=2022.9.0; python_version >= \"3.8\" and extra == \"all\"->fugue[all]) (2.2.0)\n",
      "Requirement already satisfied: packaging>=20.0 in /home/fm-pc-lt-227/.local/lib/python3.8/site-packages (from dask[dataframe,distributed]>=2022.9.0; python_version >= \"3.8\" and extra == \"all\"->fugue[all]) (21.3)\n",
      "Requirement already satisfied: pyyaml>=5.3.1 in /usr/lib/python3/dist-packages (from dask[dataframe,distributed]>=2022.9.0; python_version >= \"3.8\" and extra == \"all\"->fugue[all]) (5.3.1)\n",
      "Requirement already satisfied: toolz>=0.8.2 in /home/fm-pc-lt-227/.local/lib/python3.8/site-packages (from dask[dataframe,distributed]>=2022.9.0; python_version >= \"3.8\" and extra == \"all\"->fugue[all]) (0.11.2)\n",
      "Requirement already satisfied: distributed==2023.1.0; extra == \"distributed\" in /home/fm-pc-lt-227/.local/lib/python3.8/site-packages (from dask[dataframe,distributed]>=2022.9.0; python_version >= \"3.8\" and extra == \"all\"->fugue[all]) (2023.1.0)\n",
      "Requirement already satisfied: py4j==0.10.9.5 in /home/fm-pc-lt-227/.local/lib/python3.8/site-packages (from pyspark; extra == \"all\"->fugue[all]) (0.10.9.5)\n",
      "Requirement already satisfied: prompt-toolkit!=3.0.0,!=3.0.1,<3.1.0,>=2.0.0 in /home/fm-pc-lt-227/.local/lib/python3.8/site-packages (from ipython>=7.10.0; extra == \"all\"->fugue[all]) (3.0.23)\n",
      "Requirement already satisfied: setuptools>=18.5 in /usr/lib/python3/dist-packages (from ipython>=7.10.0; extra == \"all\"->fugue[all]) (45.2.0)\n",
      "Requirement already satisfied: decorator in /home/fm-pc-lt-227/.local/lib/python3.8/site-packages (from ipython>=7.10.0; extra == \"all\"->fugue[all]) (5.1.0)\n",
      "Requirement already satisfied: pygments in /home/fm-pc-lt-227/.local/lib/python3.8/site-packages (from ipython>=7.10.0; extra == \"all\"->fugue[all]) (2.10.0)\n",
      "Requirement already satisfied: backcall in /home/fm-pc-lt-227/.local/lib/python3.8/site-packages (from ipython>=7.10.0; extra == \"all\"->fugue[all]) (0.2.0)\n",
      "Requirement already satisfied: pexpect>4.3; sys_platform != \"win32\" in /home/fm-pc-lt-227/.local/lib/python3.8/site-packages (from ipython>=7.10.0; extra == \"all\"->fugue[all]) (4.8.0)\n",
      "Requirement already satisfied: matplotlib-inline in /home/fm-pc-lt-227/.local/lib/python3.8/site-packages (from ipython>=7.10.0; extra == \"all\"->fugue[all]) (0.1.3)\n",
      "Requirement already satisfied: jedi>=0.16 in /home/fm-pc-lt-227/.local/lib/python3.8/site-packages (from ipython>=7.10.0; extra == \"all\"->fugue[all]) (0.18.1)\n",
      "Requirement already satisfied: traitlets>=4.2 in /home/fm-pc-lt-227/.local/lib/python3.8/site-packages (from ipython>=7.10.0; extra == \"all\"->fugue[all]) (5.1.1)\n",
      "Requirement already satisfied: pickleshare in /home/fm-pc-lt-227/.local/lib/python3.8/site-packages (from ipython>=7.10.0; extra == \"all\"->fugue[all]) (0.7.5)\n",
      "Requirement already satisfied: tornado>=6.1.0 in /home/fm-pc-lt-227/.local/lib/python3.8/site-packages (from jupyterlab; extra == \"all\"->fugue[all]) (6.1)\n",
      "Requirement already satisfied: jupyter-core in /home/fm-pc-lt-227/.local/lib/python3.8/site-packages (from jupyterlab; extra == \"all\"->fugue[all]) (4.9.1)\n",
      "Requirement already satisfied: jupyter-server<3,>=1.16.0 in /home/fm-pc-lt-227/.local/lib/python3.8/site-packages (from jupyterlab; extra == \"all\"->fugue[all]) (2.1.0)\n",
      "Requirement already satisfied: nbclassic in /home/fm-pc-lt-227/.local/lib/python3.8/site-packages (from jupyterlab; extra == \"all\"->fugue[all]) (0.4.8)\n",
      "Requirement already satisfied: tomli in /home/fm-pc-lt-227/.local/lib/python3.8/site-packages (from jupyterlab; extra == \"all\"->fugue[all]) (2.0.1)\n",
      "Requirement already satisfied: jupyterlab-server~=2.10 in /home/fm-pc-lt-227/.local/lib/python3.8/site-packages (from jupyterlab; extra == \"all\"->fugue[all]) (2.19.0)\n",
      "Requirement already satisfied: typing-extensions<5,>=4.3.0 in /home/fm-pc-lt-227/.local/lib/python3.8/site-packages (from ibis-framework>=3.2.0; python_version >= \"3.8\" and extra == \"all\"->fugue[all]) (4.3.0)\n",
      "Requirement already satisfied: multipledispatch<1,>=0.6 in /home/fm-pc-lt-227/.local/lib/python3.8/site-packages (from ibis-framework>=3.2.0; python_version >= \"3.8\" and extra == \"all\"->fugue[all]) (0.6.0)\n",
      "Requirement already satisfied: rich<14,>=12.4.4 in /home/fm-pc-lt-227/.local/lib/python3.8/site-packages (from ibis-framework>=3.2.0; python_version >= \"3.8\" and extra == \"all\"->fugue[all]) (12.6.0)\n",
      "Requirement already satisfied: parsy<3,>=1.3.0 in /home/fm-pc-lt-227/.local/lib/python3.8/site-packages (from ibis-framework>=3.2.0; python_version >= \"3.8\" and extra == \"all\"->fugue[all]) (2.0)\n",
      "Requirement already satisfied: atpublic<4,>=2.3 in /home/fm-pc-lt-227/.local/lib/python3.8/site-packages (from ibis-framework>=3.2.0; python_version >= \"3.8\" and extra == \"all\"->fugue[all]) (3.1.1)\n",
      "Requirement already satisfied: ipykernel in /home/fm-pc-lt-227/.local/lib/python3.8/site-packages (from notebook; extra == \"all\"->fugue[all]) (6.6.0)\n",
      "Requirement already satisfied: nbconvert in /home/fm-pc-lt-227/.local/lib/python3.8/site-packages (from notebook; extra == \"all\"->fugue[all]) (6.3.0)\n",
      "Requirement already satisfied: prometheus-client in /home/fm-pc-lt-227/.local/lib/python3.8/site-packages (from notebook; extra == \"all\"->fugue[all]) (0.12.0)\n",
      "Requirement already satisfied: jupyter-client>=5.3.4 in /home/fm-pc-lt-227/.local/lib/python3.8/site-packages (from notebook; extra == \"all\"->fugue[all]) (7.1.0)\n",
      "Requirement already satisfied: argon2-cffi in /home/fm-pc-lt-227/.local/lib/python3.8/site-packages (from notebook; extra == \"all\"->fugue[all]) (21.3.0)\n",
      "Requirement already satisfied: ipython-genutils in /home/fm-pc-lt-227/.local/lib/python3.8/site-packages (from notebook; extra == \"all\"->fugue[all]) (0.2.0)\n",
      "Requirement already satisfied: nbformat in /home/fm-pc-lt-227/.local/lib/python3.8/site-packages (from notebook; extra == \"all\"->fugue[all]) (5.1.3)\n",
      "Requirement already satisfied: nest-asyncio>=1.5 in /home/fm-pc-lt-227/.local/lib/python3.8/site-packages (from notebook; extra == \"all\"->fugue[all]) (1.5.4)\n",
      "Requirement already satisfied: terminado>=0.8.3 in /home/fm-pc-lt-227/.local/lib/python3.8/site-packages (from notebook; extra == \"all\"->fugue[all]) (0.12.1)\n",
      "Requirement already satisfied: pyzmq>=17 in /home/fm-pc-lt-227/.local/lib/python3.8/site-packages (from notebook; extra == \"all\"->fugue[all]) (22.3.0)\n",
      "Requirement already satisfied: Send2Trash>=1.8.0 in /home/fm-pc-lt-227/.local/lib/python3.8/site-packages (from notebook; extra == \"all\"->fugue[all]) (1.8.0)\n",
      "Requirement already satisfied: protobuf!=3.19.5,>=3.15.3 in /home/fm-pc-lt-227/.local/lib/python3.8/site-packages (from ray[data]>=2.0.0; extra == \"all\"->fugue[all]) (4.21.12)\n",
      "Requirement already satisfied: frozenlist in /home/fm-pc-lt-227/.local/lib/python3.8/site-packages (from ray[data]>=2.0.0; extra == \"all\"->fugue[all]) (1.3.3)\n",
      "Requirement already satisfied: msgpack<2.0.0,>=1.0.0 in /home/fm-pc-lt-227/.local/lib/python3.8/site-packages (from ray[data]>=2.0.0; extra == \"all\"->fugue[all]) (1.0.4)\n",
      "Requirement already satisfied: attrs in /home/fm-pc-lt-227/.local/lib/python3.8/site-packages (from ray[data]>=2.0.0; extra == \"all\"->fugue[all]) (21.2.0)\n",
      "Requirement already satisfied: requests in /home/fm-pc-lt-227/.local/lib/python3.8/site-packages (from ray[data]>=2.0.0; extra == \"all\"->fugue[all]) (2.22.0)\n",
      "Requirement already satisfied: virtualenv>=20.0.24 in /home/fm-pc-lt-227/.local/lib/python3.8/site-packages (from ray[data]>=2.0.0; extra == \"all\"->fugue[all]) (20.16.4)\n",
      "Requirement already satisfied: jsonschema in /home/fm-pc-lt-227/.local/lib/python3.8/site-packages (from ray[data]>=2.0.0; extra == \"all\"->fugue[all]) (4.2.1)\n",
      "Requirement already satisfied: grpcio>=1.32.0; python_version < \"3.10\" in /home/fm-pc-lt-227/.local/lib/python3.8/site-packages (from ray[data]>=2.0.0; extra == \"all\"->fugue[all]) (1.51.1)\n",
      "Requirement already satisfied: aiosignal in /home/fm-pc-lt-227/.local/lib/python3.8/site-packages (from ray[data]>=2.0.0; extra == \"all\"->fugue[all]) (1.3.1)\n",
      "Requirement already satisfied: filelock in /home/fm-pc-lt-227/.local/lib/python3.8/site-packages (from ray[data]>=2.0.0; extra == \"all\"->fugue[all]) (3.8.0)\n",
      "Requirement already satisfied: appdirs~=1.4.3 in /home/fm-pc-lt-227/.local/lib/python3.8/site-packages (from fs->triad>=0.8.0->fugue[all]) (1.4.4)\n",
      "Requirement already satisfied: locket in /home/fm-pc-lt-227/.local/lib/python3.8/site-packages (from partd>=0.3.10->dask[dataframe,distributed]>=2022.9.0; python_version >= \"3.8\" and extra == \"all\"->fugue[all]) (1.0.0)\n",
      "Requirement already satisfied: pyparsing!=3.0.5,>=2.0.2 in /home/fm-pc-lt-227/.local/lib/python3.8/site-packages (from packaging>=20.0->dask[dataframe,distributed]>=2022.9.0; python_version >= \"3.8\" and extra == \"all\"->fugue[all]) (3.0.6)\n",
      "Requirement already satisfied: psutil>=5.7.0 in /home/fm-pc-lt-227/.local/lib/python3.8/site-packages (from distributed==2023.1.0; extra == \"distributed\"->dask[dataframe,distributed]>=2022.9.0; python_version >= \"3.8\" and extra == \"all\"->fugue[all]) (5.9.0)\n",
      "Requirement already satisfied: zict>=2.1.0 in /home/fm-pc-lt-227/.local/lib/python3.8/site-packages (from distributed==2023.1.0; extra == \"distributed\"->dask[dataframe,distributed]>=2022.9.0; python_version >= \"3.8\" and extra == \"all\"->fugue[all]) (2.2.0)\n",
      "Requirement already satisfied: urllib3>=1.24.3 in /home/fm-pc-lt-227/.local/lib/python3.8/site-packages (from distributed==2023.1.0; extra == \"distributed\"->dask[dataframe,distributed]>=2022.9.0; python_version >= \"3.8\" and extra == \"all\"->fugue[all]) (1.25.11)\n",
      "Requirement already satisfied: tblib>=1.6.0 in /home/fm-pc-lt-227/.local/lib/python3.8/site-packages (from distributed==2023.1.0; extra == \"distributed\"->dask[dataframe,distributed]>=2022.9.0; python_version >= \"3.8\" and extra == \"all\"->fugue[all]) (1.7.0)\n",
      "Requirement already satisfied: sortedcontainers>=2.0.5 in /home/fm-pc-lt-227/.local/lib/python3.8/site-packages (from distributed==2023.1.0; extra == \"distributed\"->dask[dataframe,distributed]>=2022.9.0; python_version >= \"3.8\" and extra == \"all\"->fugue[all]) (2.4.0)\n",
      "Requirement already satisfied: wcwidth in /home/fm-pc-lt-227/.local/lib/python3.8/site-packages (from prompt-toolkit!=3.0.0,!=3.0.1,<3.1.0,>=2.0.0->ipython>=7.10.0; extra == \"all\"->fugue[all]) (0.2.5)\n",
      "Requirement already satisfied: ptyprocess>=0.5 in /home/fm-pc-lt-227/.local/lib/python3.8/site-packages (from pexpect>4.3; sys_platform != \"win32\"->ipython>=7.10.0; extra == \"all\"->fugue[all]) (0.7.0)\n",
      "Requirement already satisfied: parso<0.9.0,>=0.8.0 in /home/fm-pc-lt-227/.local/lib/python3.8/site-packages (from jedi>=0.16->ipython>=7.10.0; extra == \"all\"->fugue[all]) (0.8.3)\n",
      "Requirement already satisfied: jupyter-events>=0.4.0 in /home/fm-pc-lt-227/.local/lib/python3.8/site-packages (from jupyter-server<3,>=1.16.0->jupyterlab; extra == \"all\"->fugue[all]) (0.6.3)\n",
      "Requirement already satisfied: websocket-client in /home/fm-pc-lt-227/.local/lib/python3.8/site-packages (from jupyter-server<3,>=1.16.0->jupyterlab; extra == \"all\"->fugue[all]) (1.4.2)\n",
      "Requirement already satisfied: jupyter-server-terminals in /home/fm-pc-lt-227/.local/lib/python3.8/site-packages (from jupyter-server<3,>=1.16.0->jupyterlab; extra == \"all\"->fugue[all]) (0.4.4)\n",
      "Requirement already satisfied: anyio<4,>=3.1.0 in /home/fm-pc-lt-227/.local/lib/python3.8/site-packages (from jupyter-server<3,>=1.16.0->jupyterlab; extra == \"all\"->fugue[all]) (3.6.2)\n",
      "Requirement already satisfied: notebook-shim>=0.1.0 in /home/fm-pc-lt-227/.local/lib/python3.8/site-packages (from nbclassic->jupyterlab; extra == \"all\"->fugue[all]) (0.2.2)\n",
      "Requirement already satisfied: json5>=0.9.0 in /home/fm-pc-lt-227/.local/lib/python3.8/site-packages (from jupyterlab-server~=2.10->jupyterlab; extra == \"all\"->fugue[all]) (0.9.11)\n",
      "Requirement already satisfied: babel>=2.10 in /home/fm-pc-lt-227/.local/lib/python3.8/site-packages (from jupyterlab-server~=2.10->jupyterlab; extra == \"all\"->fugue[all]) (2.11.0)\n",
      "Requirement already satisfied: importlib-metadata>=4.8.3; python_version < \"3.10\" in /home/fm-pc-lt-227/.local/lib/python3.8/site-packages (from jupyterlab-server~=2.10->jupyterlab; extra == \"all\"->fugue[all]) (4.12.0)\n",
      "Requirement already satisfied: commonmark<0.10.0,>=0.9.0 in /home/fm-pc-lt-227/.local/lib/python3.8/site-packages (from rich<14,>=12.4.4->ibis-framework>=3.2.0; python_version >= \"3.8\" and extra == \"all\"->fugue[all]) (0.9.1)\n",
      "Requirement already satisfied: debugpy<2.0,>=1.0.0 in /home/fm-pc-lt-227/.local/lib/python3.8/site-packages (from ipykernel->notebook; extra == \"all\"->fugue[all]) (1.5.1)\n",
      "Requirement already satisfied: nbclient<0.6.0,>=0.5.0 in /home/fm-pc-lt-227/.local/lib/python3.8/site-packages (from nbconvert->notebook; extra == \"all\"->fugue[all]) (0.5.9)\n",
      "Requirement already satisfied: testpath in /home/fm-pc-lt-227/.local/lib/python3.8/site-packages (from nbconvert->notebook; extra == \"all\"->fugue[all]) (0.5.0)\n",
      "Requirement already satisfied: entrypoints>=0.2.2 in /usr/lib/python3/dist-packages (from nbconvert->notebook; extra == \"all\"->fugue[all]) (0.3)\n",
      "Requirement already satisfied: bleach in /home/fm-pc-lt-227/.local/lib/python3.8/site-packages (from nbconvert->notebook; extra == \"all\"->fugue[all]) (4.1.0)\n",
      "Requirement already satisfied: jupyterlab-pygments in /home/fm-pc-lt-227/.local/lib/python3.8/site-packages (from nbconvert->notebook; extra == \"all\"->fugue[all]) (0.1.2)\n",
      "Requirement already satisfied: mistune<2,>=0.8.1 in /home/fm-pc-lt-227/.local/lib/python3.8/site-packages (from nbconvert->notebook; extra == \"all\"->fugue[all]) (0.8.4)\n",
      "Requirement already satisfied: pandocfilters>=1.4.1 in /home/fm-pc-lt-227/.local/lib/python3.8/site-packages (from nbconvert->notebook; extra == \"all\"->fugue[all]) (1.5.0)\n",
      "Requirement already satisfied: defusedxml in /home/fm-pc-lt-227/.local/lib/python3.8/site-packages (from nbconvert->notebook; extra == \"all\"->fugue[all]) (0.7.1)\n",
      "Requirement already satisfied: argon2-cffi-bindings in /home/fm-pc-lt-227/.local/lib/python3.8/site-packages (from argon2-cffi->notebook; extra == \"all\"->fugue[all]) (21.2.0)\n",
      "Requirement already satisfied: certifi>=2017.4.17 in /home/fm-pc-lt-227/.local/lib/python3.8/site-packages (from requests->ray[data]>=2.0.0; extra == \"all\"->fugue[all]) (2021.10.8)\n",
      "Requirement already satisfied: chardet<3.1.0,>=3.0.2 in /home/fm-pc-lt-227/.local/lib/python3.8/site-packages (from requests->ray[data]>=2.0.0; extra == \"all\"->fugue[all]) (3.0.4)\n",
      "Requirement already satisfied: idna<2.9,>=2.5 in /home/fm-pc-lt-227/.local/lib/python3.8/site-packages (from requests->ray[data]>=2.0.0; extra == \"all\"->fugue[all]) (2.8)\n",
      "Requirement already satisfied: distlib<1,>=0.3.5 in /home/fm-pc-lt-227/.local/lib/python3.8/site-packages (from virtualenv>=20.0.24->ray[data]>=2.0.0; extra == \"all\"->fugue[all]) (0.3.6)\n",
      "Requirement already satisfied: platformdirs<3,>=2.4 in /home/fm-pc-lt-227/.local/lib/python3.8/site-packages (from virtualenv>=20.0.24->ray[data]>=2.0.0; extra == \"all\"->fugue[all]) (2.5.2)\n",
      "Requirement already satisfied: importlib-resources>=1.4.0; python_version < \"3.9\" in /home/fm-pc-lt-227/.local/lib/python3.8/site-packages (from jsonschema->ray[data]>=2.0.0; extra == \"all\"->fugue[all]) (5.4.0)\n",
      "Requirement already satisfied: pyrsistent!=0.17.0,!=0.17.1,!=0.17.2,>=0.14.0 in /home/fm-pc-lt-227/.local/lib/python3.8/site-packages (from jsonschema->ray[data]>=2.0.0; extra == \"all\"->fugue[all]) (0.18.0)\n",
      "Requirement already satisfied: heapdict in /home/fm-pc-lt-227/.local/lib/python3.8/site-packages (from zict>=2.1.0->distributed==2023.1.0; extra == \"distributed\"->dask[dataframe,distributed]>=2022.9.0; python_version >= \"3.8\" and extra == \"all\"->fugue[all]) (1.0.1)\n",
      "Requirement already satisfied: rfc3339-validator in /home/fm-pc-lt-227/.local/lib/python3.8/site-packages (from jupyter-events>=0.4.0->jupyter-server<3,>=1.16.0->jupyterlab; extra == \"all\"->fugue[all]) (0.1.4)\n",
      "Requirement already satisfied: python-json-logger>=2.0.4 in /home/fm-pc-lt-227/.local/lib/python3.8/site-packages (from jupyter-events>=0.4.0->jupyter-server<3,>=1.16.0->jupyterlab; extra == \"all\"->fugue[all]) (2.0.4)\n",
      "Requirement already satisfied: rfc3986-validator>=0.1.1 in /home/fm-pc-lt-227/.local/lib/python3.8/site-packages (from jupyter-events>=0.4.0->jupyter-server<3,>=1.16.0->jupyterlab; extra == \"all\"->fugue[all]) (0.1.1)\n",
      "Requirement already satisfied: sniffio>=1.1 in /home/fm-pc-lt-227/.local/lib/python3.8/site-packages (from anyio<4,>=3.1.0->jupyter-server<3,>=1.16.0->jupyterlab; extra == \"all\"->fugue[all]) (1.3.0)\n",
      "Requirement already satisfied: zipp>=0.5 in /home/fm-pc-lt-227/.local/lib/python3.8/site-packages (from importlib-metadata>=4.8.3; python_version < \"3.10\"->jupyterlab-server~=2.10->jupyterlab; extra == \"all\"->fugue[all]) (3.6.0)\n",
      "Requirement already satisfied: webencodings in /home/fm-pc-lt-227/.local/lib/python3.8/site-packages (from bleach->nbconvert->notebook; extra == \"all\"->fugue[all]) (0.5.1)\n",
      "Requirement already satisfied: cffi>=1.0.1 in /home/fm-pc-lt-227/.local/lib/python3.8/site-packages (from argon2-cffi-bindings->argon2-cffi->notebook; extra == \"all\"->fugue[all]) (1.15.0)\n",
      "Requirement already satisfied: pycparser in /home/fm-pc-lt-227/.local/lib/python3.8/site-packages (from cffi>=1.0.1->argon2-cffi-bindings->argon2-cffi->notebook; extra == \"all\"->fugue[all]) (2.21)\n"
     ]
    },
    {
     "data": {
      "application/javascript": "\n            setTimeout(function() {\n                var nbb_cell_id = 3;\n                var nbb_unformatted_code = \"! pip install fugue[all]\";\n                var nbb_formatted_code = \"! pip install fugue[all]\";\n                var nbb_cells = Jupyter.notebook.get_cells();\n                for (var i = 0; i < nbb_cells.length; ++i) {\n                    if (nbb_cells[i].input_prompt_number == nbb_cell_id) {\n                        if (nbb_cells[i].get_text() == nbb_unformatted_code) {\n                             nbb_cells[i].set_text(nbb_formatted_code);\n                        }\n                        break;\n                    }\n                }\n            }, 500);\n            ",
      "text/plain": [
       "<IPython.core.display.Javascript object>"
      ]
     },
     "metadata": {},
     "output_type": "display_data"
    }
   ],
   "source": [
    "! pip install fugue[all]"
   ]
  },
  {
   "attachments": {},
   "cell_type": "markdown",
   "metadata": {},
   "source": [
    "## Just Like SQL"
   ]
  },
  {
   "cell_type": "code",
   "execution_count": 4,
   "metadata": {},
   "outputs": [
    {
     "name": "stderr",
     "output_type": "stream",
     "text": [
      "/home/fm-pc-lt-227/.local/lib/python3.8/site-packages/fugue_sql/__init__.py:8: UserWarning: fsql and FugueSQLWorkflow now should be imported directly from fugue, fugue_sql will be removed in 0.9.0\n",
      "  warnings.warn(\n"
     ]
    },
    {
     "data": {
      "application/javascript": "\nrequire([\"codemirror/lib/codemirror\"]);\nfunction set(str) {\n    var obj = {}, words = str.split(\" \");\n    for (var i = 0; i < words.length; ++i) obj[words[i]] = true;\n    return obj;\n  }\nvar fugue_keywords = \"fill hash rand even presort persist broadcast params process output outtransform rowcount concurrency prepartition zip print title save append parquet csv json single checkpoint weak strong deterministic yield connect sample seed take sub callback dataframe file\";\nCodeMirror.defineMIME(\"text/x-fsql\", {\n    name: \"sql\",\n    keywords: set(fugue_keywords + \" add after all alter analyze and anti archive array as asc at between bucket buckets by cache cascade case cast change clear cluster clustered codegen collection column columns comment commit compact compactions compute concatenate cost create cross cube current current_date current_timestamp database databases data dbproperties defined delete delimited deny desc describe dfs directories distinct distribute drop else end escaped except exchange exists explain export extended external false fields fileformat first following for format formatted from full function functions global grant group grouping having if ignore import in index indexes inner inpath inputformat insert intersect interval into is items join keys last lateral lazy left like limit lines list load local location lock locks logical macro map minus msck natural no not null nulls of on optimize option options or order out outer outputformat over overwrite partition partitioned partitions percent preceding principals purge range recordreader recordwriter recover reduce refresh regexp rename repair replace reset restrict revoke right rlike role roles rollback rollup row rows schema schemas select semi separated serde serdeproperties set sets show skewed sort sorted start statistics stored stratify struct table tables tablesample tblproperties temp temporary terminated then to touch transaction transactions transform true truncate unarchive unbounded uncache union unlock unset use using values view when where window with\"),\n    builtin: set(\"date datetime tinyint smallint int bigint boolean float double string binary timestamp decimal array map struct uniontype delimited serde sequencefile textfile rcfile inputformat outputformat\"),\n    atoms: set(\"false true null\"),\n    operatorChars: /^[*\\/+\\-%<>!=~&|^]/,\n    dateSQL: set(\"time\"),\n    support: set(\"ODBCdotTable doubleQuote zerolessFloat\")\n  });\n\nCodeMirror.modeInfo.push( {\n            name: \"Fugue SQL\",\n            mime: \"text/x-fsql\",\n            mode: \"sql\"\n          } );\n\nrequire(['notebook/js/codecell'], function(codecell) {\n    codecell.CodeCell.options_default.highlight_modes['magic_text/x-fsql'] = {'reg':[/%%fsql/]} ;\n    Jupyter.notebook.events.on('kernel_ready.Kernel', function(){\n    Jupyter.notebook.get_cells().map(function(cell){\n        if (cell.cell_type == 'code'){ cell.auto_highlight(); } }) ;\n    });\n  });\n",
      "text/plain": [
       "<IPython.core.display.Javascript object>"
      ]
     },
     "metadata": {},
     "output_type": "display_data"
    },
    {
     "data": {
      "application/javascript": "\n            setTimeout(function() {\n                var nbb_cell_id = 4;\n                var nbb_unformatted_code = \"import warnings\\nimport pandas as pd\\nimport numpy as np\\nimport fugue_spark\\nfrom typing import List, Dict, Any\\nfrom fugue_notebook import setup\\nfrom fugue_sql import fsql\\n\\nwarnings.filterwarnings('ignore')\\nsetup()\";\n                var nbb_formatted_code = \"import warnings\\nimport pandas as pd\\nimport numpy as np\\nimport fugue_spark\\nfrom typing import List, Dict, Any\\nfrom fugue_notebook import setup\\nfrom fugue_sql import fsql\\n\\nwarnings.filterwarnings(\\\"ignore\\\")\\nsetup()\";\n                var nbb_cells = Jupyter.notebook.get_cells();\n                for (var i = 0; i < nbb_cells.length; ++i) {\n                    if (nbb_cells[i].input_prompt_number == nbb_cell_id) {\n                        if (nbb_cells[i].get_text() == nbb_unformatted_code) {\n                             nbb_cells[i].set_text(nbb_formatted_code);\n                        }\n                        break;\n                    }\n                }\n            }, 500);\n            ",
      "text/plain": [
       "<IPython.core.display.Javascript object>"
      ]
     },
     "metadata": {},
     "output_type": "display_data"
    }
   ],
   "source": [
    "import warnings\n",
    "import pandas as pd\n",
    "import numpy as np\n",
    "import fugue_spark\n",
    "from typing import List, Dict, Any\n",
    "from fugue_notebook import setup\n",
    "from fugue_sql import fsql\n",
    "\n",
    "warnings.filterwarnings('ignore')\n",
    "setup()"
   ]
  },
  {
   "cell_type": "code",
   "execution_count": 5,
   "metadata": {},
   "outputs": [
    {
     "data": {
      "text/html": [
       "<div>\n",
       "<style scoped>\n",
       "    .dataframe tbody tr th:only-of-type {\n",
       "        vertical-align: middle;\n",
       "    }\n",
       "\n",
       "    .dataframe tbody tr th {\n",
       "        vertical-align: top;\n",
       "    }\n",
       "\n",
       "    .dataframe thead th {\n",
       "        text-align: right;\n",
       "    }\n",
       "</style>\n",
       "<table border=\"1\" class=\"dataframe\">\n",
       "  <thead>\n",
       "    <tr style=\"text-align: right;\">\n",
       "      <th></th>\n",
       "      <th>col1</th>\n",
       "      <th>col2</th>\n",
       "    </tr>\n",
       "  </thead>\n",
       "  <tbody>\n",
       "    <tr>\n",
       "      <th>0</th>\n",
       "      <td>1</td>\n",
       "      <td>a</td>\n",
       "    </tr>\n",
       "    <tr>\n",
       "      <th>1</th>\n",
       "      <td>2</td>\n",
       "      <td>a</td>\n",
       "    </tr>\n",
       "    <tr>\n",
       "      <th>2</th>\n",
       "      <td>3</td>\n",
       "      <td>c</td>\n",
       "    </tr>\n",
       "    <tr>\n",
       "      <th>3</th>\n",
       "      <td>4</td>\n",
       "      <td>d</td>\n",
       "    </tr>\n",
       "  </tbody>\n",
       "</table>\n",
       "</div>"
      ],
      "text/plain": [
       "   col1 col2\n",
       "0     1    a\n",
       "1     2    a\n",
       "2     3    c\n",
       "3     4    d"
      ]
     },
     "execution_count": 5,
     "metadata": {},
     "output_type": "execute_result"
    },
    {
     "data": {
      "application/javascript": "\n            setTimeout(function() {\n                var nbb_cell_id = 5;\n                var nbb_unformatted_code = \"df = pd.DataFrame({\\\"col1\\\": [1, 2, 3, 4], \\\"col2\\\": [\\\"a\\\", \\\"a\\\", \\\"c\\\", \\\"d\\\"]})\\ndf\";\n                var nbb_formatted_code = \"df = pd.DataFrame({\\\"col1\\\": [1, 2, 3, 4], \\\"col2\\\": [\\\"a\\\", \\\"a\\\", \\\"c\\\", \\\"d\\\"]})\\ndf\";\n                var nbb_cells = Jupyter.notebook.get_cells();\n                for (var i = 0; i < nbb_cells.length; ++i) {\n                    if (nbb_cells[i].input_prompt_number == nbb_cell_id) {\n                        if (nbb_cells[i].get_text() == nbb_unformatted_code) {\n                             nbb_cells[i].set_text(nbb_formatted_code);\n                        }\n                        break;\n                    }\n                }\n            }, 500);\n            ",
      "text/plain": [
       "<IPython.core.display.Javascript object>"
      ]
     },
     "metadata": {},
     "output_type": "display_data"
    }
   ],
   "source": [
    "df = pd.DataFrame({\"col1\": [1, 2, 3, 4], \"col2\": [\"a\", \"a\", \"c\", \"d\"]})\n",
    "df"
   ]
  },
  {
   "cell_type": "code",
   "execution_count": 6,
   "metadata": {},
   "outputs": [
    {
     "data": {
      "text/html": [
       "<div>\n",
       "<style scoped>\n",
       "    .dataframe tbody tr th:only-of-type {\n",
       "        vertical-align: middle;\n",
       "    }\n",
       "\n",
       "    .dataframe tbody tr th {\n",
       "        vertical-align: top;\n",
       "    }\n",
       "\n",
       "    .dataframe thead th {\n",
       "        text-align: right;\n",
       "    }\n",
       "</style>\n",
       "<table border=\"1\" class=\"dataframe\">\n",
       "  <thead>\n",
       "    <tr style=\"text-align: right;\">\n",
       "      <th></th>\n",
       "      <th>col1:long</th>\n",
       "      <th>col2:str</th>\n",
       "    </tr>\n",
       "  </thead>\n",
       "  <tbody>\n",
       "    <tr>\n",
       "      <th>0</th>\n",
       "      <td>1</td>\n",
       "      <td>a</td>\n",
       "    </tr>\n",
       "    <tr>\n",
       "      <th>1</th>\n",
       "      <td>2</td>\n",
       "      <td>a</td>\n",
       "    </tr>\n",
       "  </tbody>\n",
       "</table>\n",
       "</div>\n",
       "<font size=\"-1\">PandasDataFrame: col1:long,col2:str</font>"
      ],
      "text/plain": [
       "<IPython.core.display.HTML object>"
      ]
     },
     "metadata": {},
     "output_type": "display_data"
    },
    {
     "data": {
      "application/javascript": "\n            setTimeout(function() {\n                var nbb_cell_id = 6;\n                var nbb_unformatted_code = \"%%fsql\\n\\nSELECT * FROM df\\nWHERE col2 = \\\"a\\\"\\nPRINT\";\n                var nbb_formatted_code = \"%%fsql\\n\\nSELECT * FROM df\\nWHERE col2 = \\\"a\\\"\\nPRINT\";\n                var nbb_cells = Jupyter.notebook.get_cells();\n                for (var i = 0; i < nbb_cells.length; ++i) {\n                    if (nbb_cells[i].input_prompt_number == nbb_cell_id) {\n                        if (nbb_cells[i].get_text() == nbb_unformatted_code) {\n                             nbb_cells[i].set_text(nbb_formatted_code);\n                        }\n                        break;\n                    }\n                }\n            }, 500);\n            ",
      "text/plain": [
       "<IPython.core.display.Javascript object>"
      ]
     },
     "metadata": {},
     "output_type": "display_data"
    }
   ],
   "source": [
    "%%fsql\n",
    "\n",
    "SELECT * FROM df\n",
    "WHERE col2 = \"a\"\n",
    "PRINT"
   ]
  },
  {
   "cell_type": "code",
   "execution_count": 7,
   "metadata": {},
   "outputs": [
    {
     "data": {
      "text/html": [
       "<div>\n",
       "<style scoped>\n",
       "    .dataframe tbody tr th:only-of-type {\n",
       "        vertical-align: middle;\n",
       "    }\n",
       "\n",
       "    .dataframe tbody tr th {\n",
       "        vertical-align: top;\n",
       "    }\n",
       "\n",
       "    .dataframe thead th {\n",
       "        text-align: right;\n",
       "    }\n",
       "</style>\n",
       "<table border=\"1\" class=\"dataframe\">\n",
       "  <thead>\n",
       "    <tr style=\"text-align: right;\">\n",
       "      <th></th>\n",
       "      <th>col2:str</th>\n",
       "      <th>avg_col1:double</th>\n",
       "    </tr>\n",
       "  </thead>\n",
       "  <tbody>\n",
       "    <tr>\n",
       "      <th>0</th>\n",
       "      <td>a</td>\n",
       "      <td>1.5</td>\n",
       "    </tr>\n",
       "    <tr>\n",
       "      <th>1</th>\n",
       "      <td>c</td>\n",
       "      <td>3.0</td>\n",
       "    </tr>\n",
       "    <tr>\n",
       "      <th>2</th>\n",
       "      <td>d</td>\n",
       "      <td>4.0</td>\n",
       "    </tr>\n",
       "  </tbody>\n",
       "</table>\n",
       "</div>\n",
       "<font size=\"-1\">PandasDataFrame: col2:str,avg_col1:double</font>"
      ],
      "text/plain": [
       "<IPython.core.display.HTML object>"
      ]
     },
     "metadata": {},
     "output_type": "display_data"
    },
    {
     "data": {
      "application/javascript": "\n            setTimeout(function() {\n                var nbb_cell_id = 7;\n                var nbb_unformatted_code = \"%%fsql\\n\\nSELECT col2, AVG(col1) AS avg_col1\\nFROM df\\nGROUP BY col2\\nPRINT\";\n                var nbb_formatted_code = \"%%fsql\\n\\nSELECT col2, AVG(col1) AS avg_col1\\nFROM df\\nGROUP BY col2\\nPRINT\";\n                var nbb_cells = Jupyter.notebook.get_cells();\n                for (var i = 0; i < nbb_cells.length; ++i) {\n                    if (nbb_cells[i].input_prompt_number == nbb_cell_id) {\n                        if (nbb_cells[i].get_text() == nbb_unformatted_code) {\n                             nbb_cells[i].set_text(nbb_formatted_code);\n                        }\n                        break;\n                    }\n                }\n            }, 500);\n            ",
      "text/plain": [
       "<IPython.core.display.Javascript object>"
      ]
     },
     "metadata": {},
     "output_type": "display_data"
    }
   ],
   "source": [
    "%%fsql\n",
    "\n",
    "SELECT col2, AVG(col1) AS avg_col1\n",
    "FROM df\n",
    "GROUP BY col2\n",
    "PRINT"
   ]
  },
  {
   "attachments": {},
   "cell_type": "markdown",
   "metadata": {},
   "source": [
    "## Enhance SQL Interface"
   ]
  },
  {
   "cell_type": "code",
   "execution_count": 8,
   "metadata": {},
   "outputs": [
    {
     "data": {
      "application/javascript": "\n            setTimeout(function() {\n                var nbb_cell_id = 8;\n                var nbb_unformatted_code = \"%%fsql  \\n\\ndf2 = SELECT *\\nFROM df \\nWHERE col2=\\\"a\\\"\\n\\nSAVE df2 OVERWRITE '/tmp/df2.csv' (header=true)\";\n                var nbb_formatted_code = \"%%fsql  \\n\\ndf2 = SELECT *\\nFROM df \\nWHERE col2=\\\"a\\\"\\n\\nSAVE df2 OVERWRITE '/tmp/df2.csv' (header=true)\";\n                var nbb_cells = Jupyter.notebook.get_cells();\n                for (var i = 0; i < nbb_cells.length; ++i) {\n                    if (nbb_cells[i].input_prompt_number == nbb_cell_id) {\n                        if (nbb_cells[i].get_text() == nbb_unformatted_code) {\n                             nbb_cells[i].set_text(nbb_formatted_code);\n                        }\n                        break;\n                    }\n                }\n            }, 500);\n            ",
      "text/plain": [
       "<IPython.core.display.Javascript object>"
      ]
     },
     "metadata": {},
     "output_type": "display_data"
    }
   ],
   "source": [
    "%%fsql  \n",
    "\n",
    "df2 = SELECT *\n",
    "FROM df \n",
    "WHERE col2=\"a\"\n",
    "\n",
    "SAVE df2 OVERWRITE '/tmp/df2.csv' (header=true)"
   ]
  },
  {
   "cell_type": "code",
   "execution_count": 9,
   "metadata": {},
   "outputs": [
    {
     "data": {
      "text/html": [
       "<div>\n",
       "<style scoped>\n",
       "    .dataframe tbody tr th:only-of-type {\n",
       "        vertical-align: middle;\n",
       "    }\n",
       "\n",
       "    .dataframe tbody tr th {\n",
       "        vertical-align: top;\n",
       "    }\n",
       "\n",
       "    .dataframe thead th {\n",
       "        text-align: right;\n",
       "    }\n",
       "</style>\n",
       "<table border=\"1\" class=\"dataframe\">\n",
       "  <thead>\n",
       "    <tr style=\"text-align: right;\">\n",
       "      <th></th>\n",
       "      <th>col1:str</th>\n",
       "      <th>col2:str</th>\n",
       "    </tr>\n",
       "  </thead>\n",
       "  <tbody>\n",
       "    <tr>\n",
       "      <th>0</th>\n",
       "      <td>1</td>\n",
       "      <td>a</td>\n",
       "    </tr>\n",
       "    <tr>\n",
       "      <th>1</th>\n",
       "      <td>2</td>\n",
       "      <td>a</td>\n",
       "    </tr>\n",
       "  </tbody>\n",
       "</table>\n",
       "</div>\n",
       "<font size=\"-1\">PandasDataFrame: col1:str,col2:str</font>"
      ],
      "text/plain": [
       "<IPython.core.display.HTML object>"
      ]
     },
     "metadata": {},
     "output_type": "display_data"
    },
    {
     "data": {
      "application/javascript": "\n            setTimeout(function() {\n                var nbb_cell_id = 9;\n                var nbb_unformatted_code = \"\\n%%fsql  \\n\\ndf3 = LOAD '/tmp/df2.csv' (header=true)\\n\\nSELECT *\\nFROM df3\\nPRINT\";\n                var nbb_formatted_code = \"%%fsql  \\n\\ndf3 = LOAD '/tmp/df2.csv' (header=true)\\n\\nSELECT *\\nFROM df3\\nPRINT\";\n                var nbb_cells = Jupyter.notebook.get_cells();\n                for (var i = 0; i < nbb_cells.length; ++i) {\n                    if (nbb_cells[i].input_prompt_number == nbb_cell_id) {\n                        if (nbb_cells[i].get_text() == nbb_unformatted_code) {\n                             nbb_cells[i].set_text(nbb_formatted_code);\n                        }\n                        break;\n                    }\n                }\n            }, 500);\n            ",
      "text/plain": [
       "<IPython.core.display.Javascript object>"
      ]
     },
     "metadata": {},
     "output_type": "display_data"
    }
   ],
   "source": [
    "\n",
    "%%fsql  \n",
    "\n",
    "df3 = LOAD '/tmp/df2.csv' (header=true)\n",
    "\n",
    "SELECT *\n",
    "FROM df3\n",
    "PRINT"
   ]
  },
  {
   "attachments": {},
   "cell_type": "markdown",
   "metadata": {},
   "source": [
    "## Added Keywords"
   ]
  },
  {
   "attachments": {},
   "cell_type": "markdown",
   "metadata": {},
   "source": [
    "### DROP"
   ]
  },
  {
   "cell_type": "code",
   "execution_count": 10,
   "metadata": {},
   "outputs": [
    {
     "data": {
      "text/html": [
       "<div>\n",
       "<style scoped>\n",
       "    .dataframe tbody tr th:only-of-type {\n",
       "        vertical-align: middle;\n",
       "    }\n",
       "\n",
       "    .dataframe tbody tr th {\n",
       "        vertical-align: top;\n",
       "    }\n",
       "\n",
       "    .dataframe thead th {\n",
       "        text-align: right;\n",
       "    }\n",
       "</style>\n",
       "<table border=\"1\" class=\"dataframe\">\n",
       "  <thead>\n",
       "    <tr style=\"text-align: right;\">\n",
       "      <th></th>\n",
       "      <th>col1:long</th>\n",
       "    </tr>\n",
       "  </thead>\n",
       "  <tbody>\n",
       "    <tr>\n",
       "      <th>0</th>\n",
       "      <td>1</td>\n",
       "    </tr>\n",
       "    <tr>\n",
       "      <th>1</th>\n",
       "      <td>2</td>\n",
       "    </tr>\n",
       "    <tr>\n",
       "      <th>2</th>\n",
       "      <td>3</td>\n",
       "    </tr>\n",
       "    <tr>\n",
       "      <th>3</th>\n",
       "      <td>4</td>\n",
       "    </tr>\n",
       "  </tbody>\n",
       "</table>\n",
       "</div>\n",
       "<font size=\"-1\">PandasDataFrame: col1:long</font>"
      ],
      "text/plain": [
       "<IPython.core.display.HTML object>"
      ]
     },
     "metadata": {},
     "output_type": "display_data"
    },
    {
     "data": {
      "application/javascript": "\n            setTimeout(function() {\n                var nbb_cell_id = 10;\n                var nbb_unformatted_code = \"%%fsql \\n\\ndf4 = DROP COLUMNS col2 IF EXISTS FROM df\\nPRINT df4\";\n                var nbb_formatted_code = \"%%fsql \\n\\ndf4 = DROP COLUMNS col2 IF EXISTS FROM df\\nPRINT df4\";\n                var nbb_cells = Jupyter.notebook.get_cells();\n                for (var i = 0; i < nbb_cells.length; ++i) {\n                    if (nbb_cells[i].input_prompt_number == nbb_cell_id) {\n                        if (nbb_cells[i].get_text() == nbb_unformatted_code) {\n                             nbb_cells[i].set_text(nbb_formatted_code);\n                        }\n                        break;\n                    }\n                }\n            }, 500);\n            ",
      "text/plain": [
       "<IPython.core.display.Javascript object>"
      ]
     },
     "metadata": {},
     "output_type": "display_data"
    }
   ],
   "source": [
    "%%fsql \n",
    "\n",
    "df4 = DROP COLUMNS col2 IF EXISTS FROM df\n",
    "PRINT df4"
   ]
  },
  {
   "attachments": {},
   "cell_type": "markdown",
   "metadata": {},
   "source": [
    "### FILL"
   ]
  },
  {
   "cell_type": "code",
   "execution_count": 11,
   "metadata": {},
   "outputs": [
    {
     "data": {
      "application/javascript": "\n            setTimeout(function() {\n                var nbb_cell_id = 11;\n                var nbb_unformatted_code = \"null_df = pd.DataFrame({\\\"col1\\\": [np.nan, np.nan, 1], \\\"col2\\\": [2, 3, np.nan]})\";\n                var nbb_formatted_code = \"null_df = pd.DataFrame({\\\"col1\\\": [np.nan, np.nan, 1], \\\"col2\\\": [2, 3, np.nan]})\";\n                var nbb_cells = Jupyter.notebook.get_cells();\n                for (var i = 0; i < nbb_cells.length; ++i) {\n                    if (nbb_cells[i].input_prompt_number == nbb_cell_id) {\n                        if (nbb_cells[i].get_text() == nbb_unformatted_code) {\n                             nbb_cells[i].set_text(nbb_formatted_code);\n                        }\n                        break;\n                    }\n                }\n            }, 500);\n            ",
      "text/plain": [
       "<IPython.core.display.Javascript object>"
      ]
     },
     "metadata": {},
     "output_type": "display_data"
    }
   ],
   "source": [
    "null_df = pd.DataFrame({\"col1\": [np.nan, np.nan, 1], \"col2\": [2, 3, np.nan]})"
   ]
  },
  {
   "cell_type": "code",
   "execution_count": 12,
   "metadata": {},
   "outputs": [
    {
     "data": {
      "text/html": [
       "<div>\n",
       "<style scoped>\n",
       "    .dataframe tbody tr th:only-of-type {\n",
       "        vertical-align: middle;\n",
       "    }\n",
       "\n",
       "    .dataframe tbody tr th {\n",
       "        vertical-align: top;\n",
       "    }\n",
       "\n",
       "    .dataframe thead th {\n",
       "        text-align: right;\n",
       "    }\n",
       "</style>\n",
       "<table border=\"1\" class=\"dataframe\">\n",
       "  <thead>\n",
       "    <tr style=\"text-align: right;\">\n",
       "      <th></th>\n",
       "      <th>col1:double</th>\n",
       "      <th>col2:double</th>\n",
       "    </tr>\n",
       "  </thead>\n",
       "  <tbody>\n",
       "    <tr>\n",
       "      <th>0</th>\n",
       "      <td>1.0</td>\n",
       "      <td>2.0</td>\n",
       "    </tr>\n",
       "    <tr>\n",
       "      <th>1</th>\n",
       "      <td>1.0</td>\n",
       "      <td>3.0</td>\n",
       "    </tr>\n",
       "    <tr>\n",
       "      <th>2</th>\n",
       "      <td>1.0</td>\n",
       "      <td>2.0</td>\n",
       "    </tr>\n",
       "  </tbody>\n",
       "</table>\n",
       "</div>\n",
       "<font size=\"-1\">PandasDataFrame: col1:double,col2:double</font>"
      ],
      "text/plain": [
       "<IPython.core.display.HTML object>"
      ]
     },
     "metadata": {},
     "output_type": "display_data"
    },
    {
     "data": {
      "application/javascript": "\n            setTimeout(function() {\n                var nbb_cell_id = 12;\n                var nbb_unformatted_code = \"%%fsql\\n-- Fill nan at col1 with 1 and nan at col2 with 2\\ndf1 = FILL NULLS PARAMS col1:1, col2:2 FROM null_df\\nPRINT df1\";\n                var nbb_formatted_code = \"%%fsql\\n-- Fill nan at col1 with 1 and nan at col2 with 2\\ndf1 = FILL NULLS PARAMS col1:1, col2:2 FROM null_df\\nPRINT df1\";\n                var nbb_cells = Jupyter.notebook.get_cells();\n                for (var i = 0; i < nbb_cells.length; ++i) {\n                    if (nbb_cells[i].input_prompt_number == nbb_cell_id) {\n                        if (nbb_cells[i].get_text() == nbb_unformatted_code) {\n                             nbb_cells[i].set_text(nbb_formatted_code);\n                        }\n                        break;\n                    }\n                }\n            }, 500);\n            ",
      "text/plain": [
       "<IPython.core.display.Javascript object>"
      ]
     },
     "metadata": {},
     "output_type": "display_data"
    }
   ],
   "source": [
    "%%fsql\n",
    "-- Fill nan at col1 with 1 and nan at col2 with 2\n",
    "df1 = FILL NULLS PARAMS col1:1, col2:2 FROM null_df\n",
    "PRINT df1"
   ]
  },
  {
   "attachments": {},
   "cell_type": "markdown",
   "metadata": {},
   "source": [
    "### SAMPLE"
   ]
  },
  {
   "cell_type": "code",
   "execution_count": 13,
   "metadata": {},
   "outputs": [
    {
     "data": {
      "text/html": [
       "<div>\n",
       "<style scoped>\n",
       "    .dataframe tbody tr th:only-of-type {\n",
       "        vertical-align: middle;\n",
       "    }\n",
       "\n",
       "    .dataframe tbody tr th {\n",
       "        vertical-align: top;\n",
       "    }\n",
       "\n",
       "    .dataframe thead th {\n",
       "        text-align: right;\n",
       "    }\n",
       "</style>\n",
       "<table border=\"1\" class=\"dataframe\">\n",
       "  <thead>\n",
       "    <tr style=\"text-align: right;\">\n",
       "      <th></th>\n",
       "      <th>col1:long</th>\n",
       "      <th>col2:str</th>\n",
       "    </tr>\n",
       "  </thead>\n",
       "  <tbody>\n",
       "    <tr>\n",
       "      <th>0</th>\n",
       "      <td>2</td>\n",
       "      <td>a</td>\n",
       "    </tr>\n",
       "    <tr>\n",
       "      <th>1</th>\n",
       "      <td>4</td>\n",
       "      <td>d</td>\n",
       "    </tr>\n",
       "  </tbody>\n",
       "</table>\n",
       "</div>\n",
       "<font size=\"-1\">PandasDataFrame: col1:long,col2:str</font>"
      ],
      "text/plain": [
       "<IPython.core.display.HTML object>"
      ]
     },
     "metadata": {},
     "output_type": "display_data"
    },
    {
     "data": {
      "text/html": [
       "<div>\n",
       "<style scoped>\n",
       "    .dataframe tbody tr th:only-of-type {\n",
       "        vertical-align: middle;\n",
       "    }\n",
       "\n",
       "    .dataframe tbody tr th {\n",
       "        vertical-align: top;\n",
       "    }\n",
       "\n",
       "    .dataframe thead th {\n",
       "        text-align: right;\n",
       "    }\n",
       "</style>\n",
       "<table border=\"1\" class=\"dataframe\">\n",
       "  <thead>\n",
       "    <tr style=\"text-align: right;\">\n",
       "      <th></th>\n",
       "      <th>col1:long</th>\n",
       "      <th>col2:str</th>\n",
       "    </tr>\n",
       "  </thead>\n",
       "  <tbody>\n",
       "    <tr>\n",
       "      <th>0</th>\n",
       "      <td>4</td>\n",
       "      <td>d</td>\n",
       "    </tr>\n",
       "    <tr>\n",
       "      <th>1</th>\n",
       "      <td>3</td>\n",
       "      <td>c</td>\n",
       "    </tr>\n",
       "  </tbody>\n",
       "</table>\n",
       "</div>\n",
       "<font size=\"-1\">PandasDataFrame: col1:long,col2:str</font>"
      ],
      "text/plain": [
       "<IPython.core.display.HTML object>"
      ]
     },
     "metadata": {},
     "output_type": "display_data"
    },
    {
     "data": {
      "application/javascript": "\n            setTimeout(function() {\n                var nbb_cell_id = 13;\n                var nbb_unformatted_code = \"%%fsql\\ndf2 = SAMPLE 2 ROWS SEED 42 FROM df\\nPRINT df2\\ndf3 = SAMPLE 50 PERCENT SEED 1 FROM df\\nPRINT df3\";\n                var nbb_formatted_code = \"%%fsql\\ndf2 = SAMPLE 2 ROWS SEED 42 FROM df\\nPRINT df2\\ndf3 = SAMPLE 50 PERCENT SEED 1 FROM df\\nPRINT df3\";\n                var nbb_cells = Jupyter.notebook.get_cells();\n                for (var i = 0; i < nbb_cells.length; ++i) {\n                    if (nbb_cells[i].input_prompt_number == nbb_cell_id) {\n                        if (nbb_cells[i].get_text() == nbb_unformatted_code) {\n                             nbb_cells[i].set_text(nbb_formatted_code);\n                        }\n                        break;\n                    }\n                }\n            }, 500);\n            ",
      "text/plain": [
       "<IPython.core.display.Javascript object>"
      ]
     },
     "metadata": {},
     "output_type": "display_data"
    }
   ],
   "source": [
    "%%fsql\n",
    "df2 = SAMPLE 2 ROWS SEED 42 FROM df\n",
    "PRINT df2\n",
    "df3 = SAMPLE 50 PERCENT SEED 1 FROM df\n",
    "PRINT df3"
   ]
  },
  {
   "attachments": {},
   "cell_type": "markdown",
   "metadata": {},
   "source": [
    "### Intergrate with Python"
   ]
  },
  {
   "cell_type": "code",
   "execution_count": 14,
   "metadata": {},
   "outputs": [
    {
     "data": {
      "application/javascript": "\n            setTimeout(function() {\n                var nbb_cell_id = 14;\n                var nbb_unformatted_code = \"# schema: *, col3:str\\ndef str_concat(df: pd.DataFrame, delimeter: str) -> pd.DataFrame:\\n    df = df.assign(col3=df[\\\"col1\\\"].astype(str) + delimeter + df[\\\"col2\\\"])\\n    return df\";\n                var nbb_formatted_code = \"# schema: *, col3:str\\ndef str_concat(df: pd.DataFrame, delimeter: str) -> pd.DataFrame:\\n    df = df.assign(col3=df[\\\"col1\\\"].astype(str) + delimeter + df[\\\"col2\\\"])\\n    return df\";\n                var nbb_cells = Jupyter.notebook.get_cells();\n                for (var i = 0; i < nbb_cells.length; ++i) {\n                    if (nbb_cells[i].input_prompt_number == nbb_cell_id) {\n                        if (nbb_cells[i].get_text() == nbb_unformatted_code) {\n                             nbb_cells[i].set_text(nbb_formatted_code);\n                        }\n                        break;\n                    }\n                }\n            }, 500);\n            ",
      "text/plain": [
       "<IPython.core.display.Javascript object>"
      ]
     },
     "metadata": {},
     "output_type": "display_data"
    }
   ],
   "source": [
    "# schema: *, col3:str\n",
    "def str_concat(df: pd.DataFrame, delimeter: str) -> pd.DataFrame:\n",
    "    df = df.assign(col3=df[\"col1\"].astype(str) + delimeter + df[\"col2\"])\n",
    "    return df"
   ]
  },
  {
   "cell_type": "code",
   "execution_count": 15,
   "metadata": {},
   "outputs": [
    {
     "data": {
      "text/html": [
       "<div>\n",
       "<style scoped>\n",
       "    .dataframe tbody tr th:only-of-type {\n",
       "        vertical-align: middle;\n",
       "    }\n",
       "\n",
       "    .dataframe tbody tr th {\n",
       "        vertical-align: top;\n",
       "    }\n",
       "\n",
       "    .dataframe thead th {\n",
       "        text-align: right;\n",
       "    }\n",
       "</style>\n",
       "<table border=\"1\" class=\"dataframe\">\n",
       "  <thead>\n",
       "    <tr style=\"text-align: right;\">\n",
       "      <th></th>\n",
       "      <th>col1:long</th>\n",
       "      <th>col2:str</th>\n",
       "    </tr>\n",
       "  </thead>\n",
       "  <tbody>\n",
       "    <tr>\n",
       "      <th>0</th>\n",
       "      <td>1</td>\n",
       "      <td>a</td>\n",
       "    </tr>\n",
       "    <tr>\n",
       "      <th>1</th>\n",
       "      <td>2</td>\n",
       "      <td>a</td>\n",
       "    </tr>\n",
       "    <tr>\n",
       "      <th>2</th>\n",
       "      <td>3</td>\n",
       "      <td>c</td>\n",
       "    </tr>\n",
       "    <tr>\n",
       "      <th>3</th>\n",
       "      <td>4</td>\n",
       "      <td>d</td>\n",
       "    </tr>\n",
       "  </tbody>\n",
       "</table>\n",
       "</div>\n",
       "<font size=\"-1\">PandasDataFrame: col1:long,col2:str</font>"
      ],
      "text/plain": [
       "<IPython.core.display.HTML object>"
      ]
     },
     "metadata": {},
     "output_type": "display_data"
    },
    {
     "data": {
      "application/javascript": "\n            setTimeout(function() {\n                var nbb_cell_id = 15;\n                var nbb_unformatted_code = \"%%fsql \\nSELECT * \\nFROM df\\nPRINT\";\n                var nbb_formatted_code = \"%%fsql \\nSELECT * \\nFROM df\\nPRINT\";\n                var nbb_cells = Jupyter.notebook.get_cells();\n                for (var i = 0; i < nbb_cells.length; ++i) {\n                    if (nbb_cells[i].input_prompt_number == nbb_cell_id) {\n                        if (nbb_cells[i].get_text() == nbb_unformatted_code) {\n                             nbb_cells[i].set_text(nbb_formatted_code);\n                        }\n                        break;\n                    }\n                }\n            }, 500);\n            ",
      "text/plain": [
       "<IPython.core.display.Javascript object>"
      ]
     },
     "metadata": {},
     "output_type": "display_data"
    }
   ],
   "source": [
    "%%fsql \n",
    "SELECT * \n",
    "FROM df\n",
    "PRINT"
   ]
  },
  {
   "cell_type": "code",
   "execution_count": 16,
   "metadata": {},
   "outputs": [
    {
     "data": {
      "text/html": [
       "<div>\n",
       "<style scoped>\n",
       "    .dataframe tbody tr th:only-of-type {\n",
       "        vertical-align: middle;\n",
       "    }\n",
       "\n",
       "    .dataframe tbody tr th {\n",
       "        vertical-align: top;\n",
       "    }\n",
       "\n",
       "    .dataframe thead th {\n",
       "        text-align: right;\n",
       "    }\n",
       "</style>\n",
       "<table border=\"1\" class=\"dataframe\">\n",
       "  <thead>\n",
       "    <tr style=\"text-align: right;\">\n",
       "      <th></th>\n",
       "      <th>col1:long</th>\n",
       "      <th>col2:str</th>\n",
       "      <th>col3:str</th>\n",
       "    </tr>\n",
       "  </thead>\n",
       "  <tbody>\n",
       "    <tr>\n",
       "      <th>0</th>\n",
       "      <td>1</td>\n",
       "      <td>a</td>\n",
       "      <td>1_a</td>\n",
       "    </tr>\n",
       "    <tr>\n",
       "      <th>1</th>\n",
       "      <td>2</td>\n",
       "      <td>a</td>\n",
       "      <td>2_a</td>\n",
       "    </tr>\n",
       "    <tr>\n",
       "      <th>2</th>\n",
       "      <td>3</td>\n",
       "      <td>c</td>\n",
       "      <td>3_c</td>\n",
       "    </tr>\n",
       "    <tr>\n",
       "      <th>3</th>\n",
       "      <td>4</td>\n",
       "      <td>d</td>\n",
       "      <td>4_d</td>\n",
       "    </tr>\n",
       "  </tbody>\n",
       "</table>\n",
       "</div>\n",
       "<font size=\"-1\">PandasDataFrame: col1:long,col2:str,col3:str</font>"
      ],
      "text/plain": [
       "<IPython.core.display.HTML object>"
      ]
     },
     "metadata": {},
     "output_type": "display_data"
    },
    {
     "data": {
      "application/javascript": "\n            setTimeout(function() {\n                var nbb_cell_id = 16;\n                var nbb_unformatted_code = \"%%fsql \\nSELECT * \\nFROM df \\nTRANSFORM USING str_concat(delimeter=\\\"_\\\")\\nPRINT\";\n                var nbb_formatted_code = \"%%fsql \\nSELECT * \\nFROM df \\nTRANSFORM USING str_concat(delimeter=\\\"_\\\")\\nPRINT\";\n                var nbb_cells = Jupyter.notebook.get_cells();\n                for (var i = 0; i < nbb_cells.length; ++i) {\n                    if (nbb_cells[i].input_prompt_number == nbb_cell_id) {\n                        if (nbb_cells[i].get_text() == nbb_unformatted_code) {\n                             nbb_cells[i].set_text(nbb_formatted_code);\n                        }\n                        break;\n                    }\n                }\n            }, 500);\n            ",
      "text/plain": [
       "<IPython.core.display.Javascript object>"
      ]
     },
     "metadata": {},
     "output_type": "display_data"
    }
   ],
   "source": [
    "%%fsql \n",
    "SELECT * \n",
    "FROM df \n",
    "TRANSFORM USING str_concat(delimeter=\"_\")\n",
    "PRINT"
   ]
  },
  {
   "attachments": {},
   "cell_type": "markdown",
   "metadata": {},
   "source": [
    "### Scale to Big Data"
   ]
  },
  {
   "cell_type": "code",
   "execution_count": 17,
   "metadata": {},
   "outputs": [
    {
     "name": "stdout",
     "output_type": "stream",
     "text": [
      "23/01/23 08:39:05 WARN Utils: Your hostname, fmpclt227-Predator-PH315-54 resolves to a loopback address: 127.0.1.1; using 192.168.1.66 instead (on interface wlp0s20f3)\n",
      "23/01/23 08:39:05 WARN Utils: Set SPARK_LOCAL_IP if you need to bind to another address\n"
     ]
    },
    {
     "name": "stderr",
     "output_type": "stream",
     "text": [
      "Setting default log level to \"WARN\".\n",
      "To adjust logging level use sc.setLogLevel(newLevel). For SparkR, use setLogLevel(newLevel).\n"
     ]
    },
    {
     "name": "stdout",
     "output_type": "stream",
     "text": [
      "23/01/23 08:39:05 WARN NativeCodeLoader: Unable to load native-hadoop library for your platform... using builtin-java classes where applicable\n"
     ]
    },
    {
     "name": "stderr",
     "output_type": "stream",
     "text": [
      "                                                                                \r"
     ]
    },
    {
     "data": {
      "text/html": [
       "<div>\n",
       "<style scoped>\n",
       "    .dataframe tbody tr th:only-of-type {\n",
       "        vertical-align: middle;\n",
       "    }\n",
       "\n",
       "    .dataframe tbody tr th {\n",
       "        vertical-align: top;\n",
       "    }\n",
       "\n",
       "    .dataframe thead th {\n",
       "        text-align: right;\n",
       "    }\n",
       "</style>\n",
       "<table border=\"1\" class=\"dataframe\">\n",
       "  <thead>\n",
       "    <tr style=\"text-align: right;\">\n",
       "      <th></th>\n",
       "      <th>col1:long</th>\n",
       "      <th>col2:str</th>\n",
       "      <th>col3:str</th>\n",
       "    </tr>\n",
       "  </thead>\n",
       "  <tbody>\n",
       "    <tr>\n",
       "      <th>0</th>\n",
       "      <td>1</td>\n",
       "      <td>a</td>\n",
       "      <td>1_a</td>\n",
       "    </tr>\n",
       "    <tr>\n",
       "      <th>1</th>\n",
       "      <td>2</td>\n",
       "      <td>a</td>\n",
       "      <td>2_a</td>\n",
       "    </tr>\n",
       "    <tr>\n",
       "      <th>2</th>\n",
       "      <td>3</td>\n",
       "      <td>c</td>\n",
       "      <td>3_c</td>\n",
       "    </tr>\n",
       "    <tr>\n",
       "      <th>3</th>\n",
       "      <td>4</td>\n",
       "      <td>d</td>\n",
       "      <td>4_d</td>\n",
       "    </tr>\n",
       "  </tbody>\n",
       "</table>\n",
       "</div>\n",
       "<font size=\"-1\">SparkDataFrame: col1:long,col2:str,col3:str</font>"
      ],
      "text/plain": [
       "<IPython.core.display.HTML object>"
      ]
     },
     "metadata": {},
     "output_type": "display_data"
    },
    {
     "data": {
      "application/javascript": "\n            setTimeout(function() {\n                var nbb_cell_id = 17;\n                var nbb_unformatted_code = \"%%fsql spark \\nSELECT * \\nFROM df \\nTRANSFORM USING str_concat(delimeter=\\\"_\\\")\\nPRINT\";\n                var nbb_formatted_code = \"%%fsql spark \\nSELECT * \\nFROM df \\nTRANSFORM USING str_concat(delimeter=\\\"_\\\")\\nPRINT\";\n                var nbb_cells = Jupyter.notebook.get_cells();\n                for (var i = 0; i < nbb_cells.length; ++i) {\n                    if (nbb_cells[i].input_prompt_number == nbb_cell_id) {\n                        if (nbb_cells[i].get_text() == nbb_unformatted_code) {\n                             nbb_cells[i].set_text(nbb_formatted_code);\n                        }\n                        break;\n                    }\n                }\n            }, 500);\n            ",
      "text/plain": [
       "<IPython.core.display.Javascript object>"
      ]
     },
     "metadata": {},
     "output_type": "display_data"
    }
   ],
   "source": [
    "%%fsql spark \n",
    "SELECT * \n",
    "FROM df \n",
    "TRANSFORM USING str_concat(delimeter=\"_\")\n",
    "PRINT"
   ]
  },
  {
   "cell_type": "code",
   "execution_count": 18,
   "metadata": {},
   "outputs": [
    {
     "data": {
      "application/javascript": "\n            setTimeout(function() {\n                var nbb_cell_id = 18;\n                var nbb_unformatted_code = \"# schema: *\\ndef get_median(df: pd.DataFrame) -> List[Dict[str, Any]]:\\n    return [{\\\"col1\\\": df[\\\"col1\\\"].median(), \\\"col2\\\": df[\\\"col2\\\"].iloc[0]}]\";\n                var nbb_formatted_code = \"# schema: *\\ndef get_median(df: pd.DataFrame) -> List[Dict[str, Any]]:\\n    return [{\\\"col1\\\": df[\\\"col1\\\"].median(), \\\"col2\\\": df[\\\"col2\\\"].iloc[0]}]\";\n                var nbb_cells = Jupyter.notebook.get_cells();\n                for (var i = 0; i < nbb_cells.length; ++i) {\n                    if (nbb_cells[i].input_prompt_number == nbb_cell_id) {\n                        if (nbb_cells[i].get_text() == nbb_unformatted_code) {\n                             nbb_cells[i].set_text(nbb_formatted_code);\n                        }\n                        break;\n                    }\n                }\n            }, 500);\n            ",
      "text/plain": [
       "<IPython.core.display.Javascript object>"
      ]
     },
     "metadata": {},
     "output_type": "display_data"
    }
   ],
   "source": [
    "# schema: *\n",
    "def get_median(df: pd.DataFrame) -> List[Dict[str, Any]]:\n",
    "    return [{\"col1\": df[\"col1\"].median(), \"col2\": df[\"col2\"].iloc[0]}]"
   ]
  },
  {
   "cell_type": "code",
   "execution_count": 19,
   "metadata": {},
   "outputs": [
    {
     "data": {
      "text/html": [
       "<div>\n",
       "<style scoped>\n",
       "    .dataframe tbody tr th:only-of-type {\n",
       "        vertical-align: middle;\n",
       "    }\n",
       "\n",
       "    .dataframe tbody tr th {\n",
       "        vertical-align: top;\n",
       "    }\n",
       "\n",
       "    .dataframe thead th {\n",
       "        text-align: right;\n",
       "    }\n",
       "</style>\n",
       "<table border=\"1\" class=\"dataframe\">\n",
       "  <thead>\n",
       "    <tr style=\"text-align: right;\">\n",
       "      <th></th>\n",
       "      <th>col1:long</th>\n",
       "      <th>col2:str</th>\n",
       "    </tr>\n",
       "  </thead>\n",
       "  <tbody>\n",
       "    <tr>\n",
       "      <th>0</th>\n",
       "      <td>1</td>\n",
       "      <td>a</td>\n",
       "    </tr>\n",
       "    <tr>\n",
       "      <th>1</th>\n",
       "      <td>3</td>\n",
       "      <td>c</td>\n",
       "    </tr>\n",
       "    <tr>\n",
       "      <th>2</th>\n",
       "      <td>4</td>\n",
       "      <td>d</td>\n",
       "    </tr>\n",
       "  </tbody>\n",
       "</table>\n",
       "</div>\n",
       "<font size=\"-1\">SparkDataFrame: col1:long,col2:str</font>"
      ],
      "text/plain": [
       "<IPython.core.display.HTML object>"
      ]
     },
     "metadata": {},
     "output_type": "display_data"
    },
    {
     "data": {
      "application/javascript": "\n            setTimeout(function() {\n                var nbb_cell_id = 19;\n                var nbb_unformatted_code = \"%%fsql spark \\nSELECT * \\nFROM df \\nTRANSFORM PREPARTITION BY col2 USING get_median\\nPRINT\";\n                var nbb_formatted_code = \"%%fsql spark \\nSELECT * \\nFROM df \\nTRANSFORM PREPARTITION BY col2 USING get_median\\nPRINT\";\n                var nbb_cells = Jupyter.notebook.get_cells();\n                for (var i = 0; i < nbb_cells.length; ++i) {\n                    if (nbb_cells[i].input_prompt_number == nbb_cell_id) {\n                        if (nbb_cells[i].get_text() == nbb_unformatted_code) {\n                             nbb_cells[i].set_text(nbb_formatted_code);\n                        }\n                        break;\n                    }\n                }\n            }, 500);\n            ",
      "text/plain": [
       "<IPython.core.display.Javascript object>"
      ]
     },
     "metadata": {},
     "output_type": "display_data"
    }
   ],
   "source": [
    "%%fsql spark \n",
    "SELECT * \n",
    "FROM df \n",
    "TRANSFORM PREPARTITION BY col2 USING get_median\n",
    "PRINT"
   ]
  },
  {
   "attachments": {},
   "cell_type": "markdown",
   "metadata": {},
   "source": [
    "## FugueSQL in Production"
   ]
  },
  {
   "cell_type": "code",
   "execution_count": 20,
   "metadata": {},
   "outputs": [
    {
     "data": {
      "text/html": [
       "<div>\n",
       "<style scoped>\n",
       "    .dataframe tbody tr th:only-of-type {\n",
       "        vertical-align: middle;\n",
       "    }\n",
       "\n",
       "    .dataframe tbody tr th {\n",
       "        vertical-align: top;\n",
       "    }\n",
       "\n",
       "    .dataframe thead th {\n",
       "        text-align: right;\n",
       "    }\n",
       "</style>\n",
       "<table border=\"1\" class=\"dataframe\">\n",
       "  <thead>\n",
       "    <tr style=\"text-align: right;\">\n",
       "      <th></th>\n",
       "      <th>col1:long</th>\n",
       "      <th>col2:str</th>\n",
       "    </tr>\n",
       "  </thead>\n",
       "  <tbody>\n",
       "    <tr>\n",
       "      <th>0</th>\n",
       "      <td>1</td>\n",
       "      <td>a</td>\n",
       "    </tr>\n",
       "    <tr>\n",
       "      <th>1</th>\n",
       "      <td>3</td>\n",
       "      <td>c</td>\n",
       "    </tr>\n",
       "    <tr>\n",
       "      <th>2</th>\n",
       "      <td>4</td>\n",
       "      <td>d</td>\n",
       "    </tr>\n",
       "  </tbody>\n",
       "</table>\n",
       "</div>\n",
       "<font size=\"-1\">SparkDataFrame: col1:long,col2:str</font>"
      ],
      "text/plain": [
       "<IPython.core.display.HTML object>"
      ]
     },
     "metadata": {},
     "output_type": "display_data"
    },
    {
     "data": {
      "text/plain": [
       "FugueWorkflowResult()"
      ]
     },
     "execution_count": 20,
     "metadata": {},
     "output_type": "execute_result"
    },
    {
     "data": {
      "application/javascript": "\n            setTimeout(function() {\n                var nbb_cell_id = 20;\n                var nbb_unformatted_code = \"fsql(\\n    \\\"\\\"\\\"SELECT * \\n        FROM df \\n        TRANSFORM PREPARTITION BY col2 USING get_median\\n        PRINT\\\"\\\"\\\"\\n).run(\\\"spark\\\")\";\n                var nbb_formatted_code = \"fsql(\\n    \\\"\\\"\\\"SELECT * \\n        FROM df \\n        TRANSFORM PREPARTITION BY col2 USING get_median\\n        PRINT\\\"\\\"\\\"\\n).run(\\\"spark\\\")\";\n                var nbb_cells = Jupyter.notebook.get_cells();\n                for (var i = 0; i < nbb_cells.length; ++i) {\n                    if (nbb_cells[i].input_prompt_number == nbb_cell_id) {\n                        if (nbb_cells[i].get_text() == nbb_unformatted_code) {\n                             nbb_cells[i].set_text(nbb_formatted_code);\n                        }\n                        break;\n                    }\n                }\n            }, 500);\n            ",
      "text/plain": [
       "<IPython.core.display.Javascript object>"
      ]
     },
     "metadata": {},
     "output_type": "display_data"
    }
   ],
   "source": [
    "fsql(\n",
    "    \"\"\"SELECT * \n",
    "        FROM df \n",
    "        TRANSFORM PREPARTITION BY col2 USING get_median\n",
    "        PRINT\"\"\"\n",
    ").run(\"spark\")"
   ]
  },
  {
   "cell_type": "code",
   "execution_count": null,
   "metadata": {},
   "outputs": [],
   "source": []
  }
 ],
 "metadata": {
  "kernelspec": {
   "display_name": "Python 3",
   "language": "python",
   "name": "python3"
  },
  "language_info": {
   "codemirror_mode": {
    "name": "ipython",
    "version": 3
   },
   "file_extension": ".py",
   "mimetype": "text/x-python",
   "name": "python",
   "nbconvert_exporter": "python",
   "pygments_lexer": "ipython3",
   "version": "3.8.10"
  },
  "orig_nbformat": 4,
  "vscode": {
   "interpreter": {
    "hash": "31f2aee4e71d21fbe5cf8b01ff0e069b9275f58929596ceb00d14d90e3e16cd6"
   }
  }
 },
 "nbformat": 4,
 "nbformat_minor": 2
}
