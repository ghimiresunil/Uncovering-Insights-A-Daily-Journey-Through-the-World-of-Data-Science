{
 "cells": [
  {
   "cell_type": "markdown",
   "metadata": {},
   "source": [
    "## The Right Way to Roll Out Library Updates in Python"
   ]
  },
  {
   "cell_type": "code",
   "execution_count": 4,
   "metadata": {},
   "outputs": [
    {
     "name": "stdout",
     "output_type": "stream",
     "text": [
      "Requirement already satisfied: deprecated in /home/fm-pc-lt-227/.local/lib/python3.8/site-packages (1.2.13)\n",
      "Requirement already satisfied: wrapt<2,>=1.10 in /home/fm-pc-lt-227/.local/lib/python3.8/site-packages (from deprecated) (1.14.1)\n"
     ]
    }
   ],
   "source": [
    "! pip install deprecated"
   ]
  },
  {
   "cell_type": "code",
   "execution_count": 2,
   "metadata": {},
   "outputs": [],
   "source": [
    "from deprecated import deprecated\n",
    "\n",
    "@deprecated(reason = \"This function will be deprecated in the next release. use new_function instead\")\n",
    "\n",
    "def old_function():\n",
    "    ..."
   ]
  },
  {
   "cell_type": "code",
   "execution_count": 3,
   "metadata": {},
   "outputs": [
    {
     "name": "stderr",
     "output_type": "stream",
     "text": [
      "/tmp/ipykernel_19791/413205487.py:1: DeprecationWarning: Call to deprecated function (or staticmethod) old_function. (This function will be deprecated in the next release. use new_function instead)\n",
      "  old_function()\n"
     ]
    }
   ],
   "source": [
    "old_function()"
   ]
  },
  {
   "cell_type": "code",
   "execution_count": null,
   "metadata": {},
   "outputs": [],
   "source": []
  }
 ],
 "metadata": {
  "kernelspec": {
   "display_name": "Python 3",
   "language": "python",
   "name": "python3"
  },
  "language_info": {
   "codemirror_mode": {
    "name": "ipython",
    "version": 3
   },
   "file_extension": ".py",
   "mimetype": "text/x-python",
   "name": "python",
   "nbconvert_exporter": "python",
   "pygments_lexer": "ipython3",
   "version": "3.8.10"
  },
  "orig_nbformat": 4,
  "vscode": {
   "interpreter": {
    "hash": "31f2aee4e71d21fbe5cf8b01ff0e069b9275f58929596ceb00d14d90e3e16cd6"
   }
  }
 },
 "nbformat": 4,
 "nbformat_minor": 2
}
