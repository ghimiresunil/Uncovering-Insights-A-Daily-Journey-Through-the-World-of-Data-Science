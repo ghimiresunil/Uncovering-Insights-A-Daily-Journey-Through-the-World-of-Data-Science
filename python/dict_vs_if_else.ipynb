{
 "cells": [
  {
   "cell_type": "markdown",
   "metadata": {},
   "source": [
    "## Using Dictionaries in place of if-conditions"
   ]
  },
  {
   "cell_type": "code",
   "execution_count": 1,
   "metadata": {},
   "outputs": [],
   "source": [
    "def func_1():   \n",
    "    print(\"Function 1\")\n",
    "    \n",
    "def func_2():   \n",
    "    print(\"Function 2\")\n",
    "    \n",
    "def func_3():   \n",
    "    print(\"Function 3\")"
   ]
  },
  {
   "cell_type": "markdown",
   "metadata": {},
   "source": [
    "### If-else"
   ]
  },
  {
   "cell_type": "code",
   "execution_count": 2,
   "metadata": {},
   "outputs": [
    {
     "name": "stdout",
     "output_type": "stream",
     "text": [
      "2\n",
      "Function 2\n"
     ]
    }
   ],
   "source": [
    "number = int(input())\n",
    "print(number)\n",
    "\n",
    "if number == 1:\n",
    "    func_1()\n",
    "    \n",
    "if number == 2:\n",
    "    func_2()\n",
    "    \n",
    "if number == 3:\n",
    "    func_3()"
   ]
  },
  {
   "cell_type": "markdown",
   "metadata": {},
   "source": [
    "### Dictionary"
   ]
  },
  {
   "cell_type": "code",
   "execution_count": 3,
   "metadata": {},
   "outputs": [
    {
     "name": "stdout",
     "output_type": "stream",
     "text": [
      "2\n",
      "Function 2\n"
     ]
    }
   ],
   "source": [
    "number = int(input())\n",
    "print(number)\n",
    "\n",
    "func_map = {1:func_1, \n",
    "            2:func_2,\n",
    "            3:func_3}\n",
    "            \n",
    "func_map[number]()"
   ]
  }
 ],
 "metadata": {
  "kernelspec": {
   "display_name": "Python 3",
   "language": "python",
   "name": "python3"
  },
  "language_info": {
   "codemirror_mode": {
    "name": "ipython",
    "version": 3
   },
   "file_extension": ".py",
   "mimetype": "text/x-python",
   "name": "python",
   "nbconvert_exporter": "python",
   "pygments_lexer": "ipython3",
   "version": "3.8.10"
  },
  "orig_nbformat": 4,
  "vscode": {
   "interpreter": {
    "hash": "31f2aee4e71d21fbe5cf8b01ff0e069b9275f58929596ceb00d14d90e3e16cd6"
   }
  }
 },
 "nbformat": 4,
 "nbformat_minor": 2
}
