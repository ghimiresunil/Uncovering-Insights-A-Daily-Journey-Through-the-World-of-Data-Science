{
 "cells": [
  {
   "cell_type": "markdown",
   "metadata": {},
   "source": [
    "## F-strings Are Much More Versatile Than You Think"
   ]
  },
  {
   "cell_type": "code",
   "execution_count": 1,
   "metadata": {},
   "outputs": [
    {
     "name": "stdout",
     "output_type": "stream",
     "text": [
      "2 decimals: 137.00\n",
      "5 digits: 00137\n",
      "scientific: 1.370000e+02\n",
      "hex: 0x89\n",
      "binary: 10001001\n",
      "octal: 211\n"
     ]
    }
   ],
   "source": [
    "number  = 137\n",
    "\n",
    "# decimal places\n",
    "print(f\"2 decimals: {number:.2f}\")\n",
    "\n",
    "# total number of characters\n",
    "print(f\"5 digits: {number:05}\")\n",
    "\n",
    "# scientific notation\n",
    "print(f\"scientific: {number:e}\")\n",
    "\n",
    "# hex conversion\n",
    "print(f\"hex: {number:#0x}\")\n",
    "\n",
    "# binary conversion\n",
    "print(f\"binary: {number:b}\")\n",
    "\n",
    "# octal conversion\n",
    "print(f\"octal: {number:o}\")"
   ]
  }
 ],
 "metadata": {
  "kernelspec": {
   "display_name": "Python 3",
   "language": "python",
   "name": "python3"
  },
  "language_info": {
   "codemirror_mode": {
    "name": "ipython",
    "version": 3
   },
   "file_extension": ".py",
   "mimetype": "text/x-python",
   "name": "python",
   "nbconvert_exporter": "python",
   "pygments_lexer": "ipython3",
   "version": "3.8.10"
  },
  "orig_nbformat": 4,
  "vscode": {
   "interpreter": {
    "hash": "31f2aee4e71d21fbe5cf8b01ff0e069b9275f58929596ceb00d14d90e3e16cd6"
   }
  }
 },
 "nbformat": 4,
 "nbformat_minor": 2
}
