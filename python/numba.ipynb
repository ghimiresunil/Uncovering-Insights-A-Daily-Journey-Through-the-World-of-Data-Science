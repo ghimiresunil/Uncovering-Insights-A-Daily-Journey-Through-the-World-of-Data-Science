{
 "cells": [
  {
   "cell_type": "markdown",
   "metadata": {},
   "source": [
    "## A single line that will make your python code faster"
   ]
  },
  {
   "cell_type": "code",
   "execution_count": 1,
   "metadata": {},
   "outputs": [
    {
     "name": "stdout",
     "output_type": "stream",
     "text": [
      "Requirement already satisfied: numba in /home/fm-pc-lt-227/.local/lib/python3.8/site-packages (0.56.4)\n",
      "Requirement already satisfied: importlib-metadata; python_version < \"3.9\" in /home/fm-pc-lt-227/.local/lib/python3.8/site-packages (from numba) (4.12.0)\n",
      "Requirement already satisfied: llvmlite<0.40,>=0.39.0dev0 in /home/fm-pc-lt-227/.local/lib/python3.8/site-packages (from numba) (0.39.1)\n",
      "Requirement already satisfied: setuptools in /usr/lib/python3/dist-packages (from numba) (45.2.0)\n",
      "Requirement already satisfied: numpy<1.24,>=1.18 in /home/fm-pc-lt-227/.local/lib/python3.8/site-packages (from numba) (1.22.1)\n",
      "Requirement already satisfied: zipp>=0.5 in /home/fm-pc-lt-227/.local/lib/python3.8/site-packages (from importlib-metadata; python_version < \"3.9\"->numba) (3.6.0)\n"
     ]
    }
   ],
   "source": [
    "! pip install numba"
   ]
  },
  {
   "cell_type": "code",
   "execution_count": 2,
   "metadata": {},
   "outputs": [],
   "source": [
    "from numba import njit"
   ]
  },
  {
   "cell_type": "code",
   "execution_count": 3,
   "metadata": {},
   "outputs": [],
   "source": [
    "def func_without_numba():\n",
    "    result = []\n",
    "    for i in range(15000):\n",
    "        for j in range(15000):\n",
    "            if (i+j)%11 == 0:\n",
    "                result.append((i,j))"
   ]
  },
  {
   "cell_type": "code",
   "execution_count": 4,
   "metadata": {},
   "outputs": [
    {
     "name": "stdout",
     "output_type": "stream",
     "text": [
      "CPU times: user 10.6 s, sys: 726 ms, total: 11.3 s\n",
      "Wall time: 11.4 s\n"
     ]
    }
   ],
   "source": [
    "%time func_without_numba()"
   ]
  },
  {
   "cell_type": "code",
   "execution_count": 5,
   "metadata": {},
   "outputs": [],
   "source": [
    "@njit\n",
    "def func_with_numba():\n",
    "    result = []\n",
    "    for i in range(15000):\n",
    "        for j in range(15000):\n",
    "            if (i+j)%11 == 0:\n",
    "                result.append((i,j))"
   ]
  },
  {
   "cell_type": "code",
   "execution_count": 6,
   "metadata": {},
   "outputs": [
    {
     "name": "stdout",
     "output_type": "stream",
     "text": [
      "CPU times: user 814 ms, sys: 1.32 s, total: 2.13 s\n",
      "Wall time: 706 ms\n"
     ]
    }
   ],
   "source": [
    "%time func_with_numba()"
   ]
  },
  {
   "cell_type": "code",
   "execution_count": 7,
   "metadata": {},
   "outputs": [
    {
     "name": "stdout",
     "output_type": "stream",
     "text": [
      "CPU times: user 264 ms, sys: 96.7 ms, total: 361 ms\n",
      "Wall time: 358 ms\n"
     ]
    }
   ],
   "source": [
    "%time func_with_numba()"
   ]
  }
 ],
 "metadata": {
  "kernelspec": {
   "display_name": "Python 3",
   "language": "python",
   "name": "python3"
  },
  "language_info": {
   "codemirror_mode": {
    "name": "ipython",
    "version": 3
   },
   "file_extension": ".py",
   "mimetype": "text/x-python",
   "name": "python",
   "nbconvert_exporter": "python",
   "pygments_lexer": "ipython3",
   "version": "3.8.10"
  },
  "orig_nbformat": 4,
  "vscode": {
   "interpreter": {
    "hash": "31f2aee4e71d21fbe5cf8b01ff0e069b9275f58929596ceb00d14d90e3e16cd6"
   }
  }
 },
 "nbformat": 4,
 "nbformat_minor": 2
}
