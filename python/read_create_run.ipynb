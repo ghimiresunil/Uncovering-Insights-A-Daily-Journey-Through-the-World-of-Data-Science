{
 "cells": [
  {
   "cell_type": "markdown",
   "metadata": {},
   "source": [
    "## Create File"
   ]
  },
  {
   "cell_type": "code",
   "execution_count": 1,
   "metadata": {},
   "outputs": [],
   "source": [
    "import os\n",
    "\n",
    "def create_path_if_not_exists(datapath):\n",
    "    '''Create the new file if not exists and save the data'''\n",
    "\n",
    "    if not os.path.exists(datapath):\n",
    "        os.makedirs(datapath) \n",
    "\n",
    "\n",
    "model_path = './ml/version_1'\n",
    "create_path_if_not_exists(model_path)"
   ]
  },
  {
   "cell_type": "code",
   "execution_count": 2,
   "metadata": {},
   "outputs": [],
   "source": [
    "! rm -r ml"
   ]
  },
  {
   "cell_type": "markdown",
   "metadata": {},
   "source": [
    "## Loop Directory"
   ]
  },
  {
   "cell_type": "code",
   "execution_count": 3,
   "metadata": {},
   "outputs": [],
   "source": [
    "import glob\n",
    "import pandas as pd"
   ]
  },
  {
   "cell_type": "code",
   "execution_count": 4,
   "metadata": {},
   "outputs": [
    {
     "name": "stdout",
     "output_type": "stream",
     "text": [
      "../dataset/data/data3.csv\n",
      "../dataset/data/data1.csv\n",
      "../dataset/data/data2.csv\n"
     ]
    }
   ],
   "source": [
    "def loop_direcory(directory:str):\n",
    "    ''' Loop files in the directory '''\n",
    "    for filename in os.listdir(directory):\n",
    "        if filename.endswith(\".csv\"):\n",
    "            file_directory = os.path.join(directory, filename)\n",
    "            print(file_directory)\n",
    "            pd.read_csv(file_directory)\n",
    "        else:\n",
    "            continue\n",
    "\n",
    "def loop_directory_glob(directory:str):\n",
    "    for file in glob.glob(os.path.join(directory, \"*.csv\")):\n",
    "        print(file)\n",
    "\n",
    "loop_directory_glob(\"../dataset/data/\")"
   ]
  },
  {
   "attachments": {},
   "cell_type": "markdown",
   "metadata": {},
   "source": [
    "## Run File"
   ]
  },
  {
   "cell_type": "code",
   "execution_count": 5,
   "metadata": {},
   "outputs": [
    {
     "name": "stdout",
     "output_type": "stream",
     "text": [
      "Loading model from model/model1/-f/version_/home/fm-pc-lt-227/.local/share/jupyter/runtime/kernel-6d8d9a9d-48a5-4147-82ad-fd54be8f2965.json for training\n"
     ]
    }
   ],
   "source": [
    "import sys\n",
    "\n",
    "model_type = sys.argv[1]\n",
    "model_version = sys.argv[2]\n",
    "model_path = f'''model/model1/{model_type}/version_{model_version}'''\n",
    "print('Loading model from', model_path, 'for training')"
   ]
  }
 ],
 "metadata": {
  "kernelspec": {
   "display_name": "Python 3",
   "language": "python",
   "name": "python3"
  },
  "language_info": {
   "codemirror_mode": {
    "name": "ipython",
    "version": 3
   },
   "file_extension": ".py",
   "mimetype": "text/x-python",
   "name": "python",
   "nbconvert_exporter": "python",
   "pygments_lexer": "ipython3",
   "version": "3.8.10"
  },
  "orig_nbformat": 4,
  "vscode": {
   "interpreter": {
    "hash": "31f2aee4e71d21fbe5cf8b01ff0e069b9275f58929596ceb00d14d90e3e16cd6"
   }
  }
 },
 "nbformat": 4,
 "nbformat_minor": 2
}
