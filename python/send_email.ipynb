{
  "cells": [
    {
      "cell_type": "markdown",
      "metadata": {
        "id": "mJWCp-i8ifUS"
      },
      "source": [
        "## Python Scripts to Send Emails\n",
        ">> python has `smtplib` library that helps to create and send an email via python scripts"
      ]
    },
    {
      "cell_type": "code",
      "execution_count": 32,
      "metadata": {
        "id": "vAaerepMbAgh"
      },
      "outputs": [],
      "source": [
        "import smtplib"
      ]
    },
    {
      "cell_type": "markdown",
      "metadata": {
        "id": "fFYeEM_PoTP9"
      },
      "source": [
        "**`Step 1`: create SMTP object for a server. We will use gmail server for now.**"
      ]
    },
    {
      "cell_type": "code",
      "execution_count": 45,
      "metadata": {
        "id": "WgV_VaXnbEk0"
      },
      "outputs": [],
      "source": [
        "# Syntax: smptlib.SMTP('server_domain_name', 'port_number')\n",
        "\n",
        "smtp_object = smtplib.SMTP('smtp.gmail.com',587)"
      ]
    },
    {
      "cell_type": "markdown",
      "metadata": {
        "id": "gkFea3qXogYm"
      },
      "source": [
        "**`Step 2`: Run the ehlo() command which greets the server and establishes the connection.**"
      ]
    },
    {
      "cell_type": "code",
      "execution_count": 46,
      "metadata": {
        "colab": {
          "base_uri": "https://localhost:8080/"
        },
        "id": "KdzweU2VbFKQ",
        "outputId": "3d1e9d8a-d538-4f68-91b0-2ff981a48fcd"
      },
      "outputs": [
        {
          "data": {
            "text/plain": [
              "(250,\n",
              " b'smtp.gmail.com at your service, [34.125.218.159]\\nSIZE 35882577\\n8BITMIME\\nSTARTTLS\\nENHANCEDSTATUSCODES\\nPIPELINING\\nCHUNKING\\nSMTPUTF8')"
            ]
          },
          "execution_count": 46,
          "metadata": {},
          "output_type": "execute_result"
        }
      ],
      "source": [
        "# Run the ehlo() command which greets the server and establishes the connection.\n",
        "smtp_object.ehlo()"
      ]
    },
    {
      "cell_type": "markdown",
      "metadata": {
        "id": "xUW2U9Jqj0QL"
      },
      "source": [
        "- we see first item in a tuple is `250`. It means connection is established.\n",
        "- we used 587 port earlier, it means we are using TLS encryption."
      ]
    },
    {
      "cell_type": "markdown",
      "metadata": {
        "id": "_xhfAjoBo1sY"
      },
      "source": [
        "**`Step 3`: Initiate TLS encryption.**"
      ]
    },
    {
      "cell_type": "code",
      "execution_count": 47,
      "metadata": {
        "colab": {
          "base_uri": "https://localhost:8080/"
        },
        "id": "DBOFFDYrbG7h",
        "outputId": "363efe25-89e6-4a0b-887c-30328ed11211"
      },
      "outputs": [
        {
          "data": {
            "text/plain": [
              "(220, b'2.0.0 Ready to start TLS')"
            ]
          },
          "execution_count": 47,
          "metadata": {},
          "output_type": "execute_result"
        }
      ],
      "source": [
        "# Initiate TLS encryption\n",
        "\n",
        "smtp_object.starttls()"
      ]
    },
    {
      "attachments": {},
      "cell_type": "markdown",
      "metadata": {
        "id": "HLeYmUTAk5HQ"
      },
      "source": [
        "## Pre-requisites For Gmail Users\n",
        "- You need to generate an app password instead of your normal gmail password.\n",
        "- **Steps:**\n",
        "  1. Enable 2 step authentication\n",
        "  2. Follow steps: [click here](https://support.google.com/accounts/answer/185833?hl=en/)\n",
        "  3. Copy the 16 digit app password. We will use this to send an email."
      ]
    },
    {
      "cell_type": "markdown",
      "metadata": {
        "id": "BHrJWCbMpKjq"
      },
      "source": [
        "**`Step 4`: Login to your email address. Use `getpass` library to get user input.**"
      ]
    },
    {
      "cell_type": "code",
      "execution_count": 38,
      "metadata": {
        "colab": {
          "base_uri": "https://localhost:8080/"
        },
        "id": "a0gh_BtxbJJk",
        "outputId": "eecdfae5-8636-4697-a41b-ee9a8c0d60a2"
      },
      "outputs": [
        {
          "name": "stdout",
          "output_type": "stream",
          "text": [
            "Enter your email: ··········\n",
            "Enter your generated app password: ··········\n"
          ]
        },
        {
          "data": {
            "text/plain": [
              "(235, b'2.7.0 Accepted')"
            ]
          },
          "execution_count": 38,
          "metadata": {},
          "output_type": "execute_result"
        }
      ],
      "source": [
        "# Login to your email address. Use `getpass` library to get user input.\n",
        "# Note: always use app password instead of gmail password\n",
        "\n",
        "import getpass\n",
        "\n",
        "email = getpass.getpass(\"Enter your email: \")\n",
        "app_password = getpass.getpass(\"Enter your generated app password: \")\n",
        "\n",
        "smtp_object.login(email, app_password)"
      ]
    },
    {
      "cell_type": "markdown",
      "metadata": {
        "id": "MtUU7ZStdgJQ"
      },
      "source": [
        "**`Step 5:` send email using .sendmail() method**"
      ]
    },
    {
      "cell_type": "code",
      "execution_count": 40,
      "metadata": {
        "colab": {
          "base_uri": "https://localhost:8080/"
        },
        "id": "6WmrsvyHbcO5",
        "outputId": "040746b7-b677-4c6a-9780-42564e6a20ed"
      },
      "outputs": [
        {
          "name": "stdout",
          "output_type": "stream",
          "text": [
            "Enter your email (sender):thapaliyanish123@gmail.com\n",
            "Enter the email of the recipient:anish.thapaliya@fusemachines.com\n",
            "Enter the subject line: demo\n",
            "Type out the message you want to send:\n",
            "just a demo\n",
            "Message Delivered...\n"
          ]
        }
      ],
      "source": [
        "# Step 5: send email using .sendmail() method\n",
        "\n",
        "from_address = input(\"Enter your email (sender):\")\n",
        "to_address = input(\"Enter the email of the recipient:\")\n",
        "\n",
        "# get email subject\n",
        "subject = input(\"Enter the subject line: \")\n",
        "\n",
        "# get email message\n",
        "message = input(\"Type out the message you want to send:\\n\")\n",
        "\n",
        "# format message\n",
        "final_message = \"Subject: \" + subject + '\\n' + message\n",
        "\n",
        "# send email\n",
        "smtp_object.sendmail(from_address, to_address, final_message)\n",
        "\n",
        "print(\"\\n Message Delivered...\")"
      ]
    },
    {
      "cell_type": "markdown",
      "metadata": {
        "id": "bIn9vXHVnF4h"
      },
      "source": [
        "**`Step 6:` Close your session**"
      ]
    },
    {
      "cell_type": "code",
      "execution_count": 29,
      "metadata": {
        "colab": {
          "base_uri": "https://localhost:8080/"
        },
        "id": "Q4bUJX3Hfe04",
        "outputId": "d2b89c4b-9c2f-4c30-d8b8-c3071b804d13"
      },
      "outputs": [
        {
          "data": {
            "text/plain": [
              "(221,\n",
              " b'2.0.0 closing connection 6-20020a170902c10600b001a52c38350fsm1473465pli.169 - gsmtp')"
            ]
          },
          "execution_count": 29,
          "metadata": {},
          "output_type": "execute_result"
        }
      ],
      "source": [
        "# close your session\n",
        "smtp_object.quit()"
      ]
    },
    {
      "attachments": {},
      "cell_type": "markdown",
      "metadata": {},
      "source": [
        "\n",
        "<hr>\n",
        "<h3>Congratulations, You can now automate sending emails\n",
        "<hr>"
      ]
    }
  ],
  "metadata": {
    "colab": {
      "provenance": []
    },
    "kernelspec": {
      "display_name": "Python 3",
      "name": "python3"
    },
    "language_info": {
      "name": "python"
    }
  },
  "nbformat": 4,
  "nbformat_minor": 0
}
